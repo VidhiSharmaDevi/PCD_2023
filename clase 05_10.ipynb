{
 "cells": [
  {
   "cell_type": "markdown",
   "id": "0f302ac8-cad6-43b1-82ee-c5aa3a366c4e",
   "metadata": {},
   "source": [
    "## Threads"
   ]
  },
  {
   "cell_type": "markdown",
   "id": "d48d2049-27b9-4a94-b77e-f310ea55be2a",
   "metadata": {},
   "source": [
    "### import libs, manage threads"
   ]
  },
  {
   "cell_type": "code",
   "execution_count": 11,
   "id": "bcaccb04-bf26-4346-b87f-756eb74822a2",
   "metadata": {},
   "outputs": [],
   "source": [
    "import threading as th"
   ]
  },
  {
   "cell_type": "code",
   "execution_count": 12,
   "id": "53e83754-112b-4bad-887e-9b85660cc26e",
   "metadata": {},
   "outputs": [
    {
     "data": {
      "text/plain": [
       "6"
      ]
     },
     "execution_count": 12,
     "metadata": {},
     "output_type": "execute_result"
    }
   ],
   "source": [
    "th.active_count()"
   ]
  },
  {
   "cell_type": "code",
   "execution_count": 15,
   "id": "d585ce67-5ba3-4f57-aeeb-1f98fa48b6a5",
   "metadata": {},
   "outputs": [
    {
     "data": {
      "text/plain": [
       "<bound method Thread.getName of <_MainThread(MainThread, started 4508)>>"
      ]
     },
     "execution_count": 15,
     "metadata": {},
     "output_type": "execute_result"
    }
   ],
   "source": [
    "th.current_thread().getName"
   ]
  },
  {
   "cell_type": "code",
   "execution_count": 16,
   "id": "4df4febc-48f8-4afc-a5fd-0cf43ef97678",
   "metadata": {},
   "outputs": [
    {
     "data": {
      "text/plain": [
       "[<_MainThread(MainThread, started 4508)>,\n",
       " <Thread(IOPub, started daemon 21036)>,\n",
       " <Heartbeat(Heartbeat, started daemon 15272)>,\n",
       " <ControlThread(Control, started daemon 23372)>,\n",
       " <HistorySavingThread(IPythonHistorySavingThread, started 16952)>,\n",
       " <ParentPollerWindows(Thread-4, started daemon 1620)>]"
      ]
     },
     "execution_count": 16,
     "metadata": {},
     "output_type": "execute_result"
    }
   ],
   "source": [
    "th.enumerate()"
   ]
  },
  {
   "cell_type": "markdown",
   "id": "3c8631d8-c005-4411-99b3-c788e4e10546",
   "metadata": {},
   "source": [
    "## Who is the parent?"
   ]
  },
  {
   "cell_type": "code",
   "execution_count": 3,
   "id": "0f19349e-649e-4582-82a4-38dff98fd97d",
   "metadata": {},
   "outputs": [],
   "source": [
    "import os"
   ]
  },
  {
   "cell_type": "code",
   "execution_count": 4,
   "id": "b5408d69-9b36-4bec-b4ee-0bac19acf305",
   "metadata": {},
   "outputs": [
    {
     "data": {
      "text/plain": [
       "22020"
      ]
     },
     "execution_count": 4,
     "metadata": {},
     "output_type": "execute_result"
    }
   ],
   "source": [
    "os.getpid()"
   ]
  },
  {
   "cell_type": "code",
   "execution_count": 5,
   "id": "dc7605e3-acff-48b1-a05c-ea4d16de9020",
   "metadata": {},
   "outputs": [],
   "source": [
    "from IPython import display as dp"
   ]
  },
  {
   "cell_type": "markdown",
   "id": "34829dfa-9b38-468e-a6c1-90bdba061a34",
   "metadata": {},
   "source": [
    "### The Parent is"
   ]
  },
  {
   "cell_type": "code",
   "execution_count": 6,
   "id": "8ca2ca23-45b5-473d-b52f-b53cc007fe98",
   "metadata": {},
   "outputs": [
    {
     "data": {
      "image/png": "[encoded data removed]",
      "text/plain": [
       "<IPython.core.display.Image object>"
      ]
     },
     "execution_count": 6,
     "metadata": {},
     "output_type": "execute_result"
    }
   ],
   "source": [
    "dp.Image(\"PythonExe.png\")"
   ]
  },
  {
   "cell_type": "markdown",
   "id": "71f6be81-1438-47fa-8318-c33c5f1b600f",
   "metadata": {},
   "source": [
    "### Threads vs Process"
   ]
  },
  {
   "cell_type": "markdown",
   "id": "9eab5a65-c58c-48ad-97f3-d1a5b32d517e",
   "metadata": {},
   "source": [
    "### Threads ex."
   ]
  },
  {
   "cell_type": "code",
   "execution_count": 7,
   "id": "da5cf426-d7c5-4b38-9acf-270e74847508",
   "metadata": {},
   "outputs": [],
   "source": [
    "def do_nothing():\n",
    "    while True:\n",
    "        pass\n",
    "        "
   ]
  },
  {
   "cell_type": "code",
   "execution_count": 18,
   "id": "96be9e7c-2c4a-48f0-93aa-d0b6dab14696",
   "metadata": {},
   "outputs": [
    {
     "data": {
      "text/plain": [
       "[<_MainThread(MainThread, started 4508)>,\n",
       " <Thread(IOPub, started daemon 21036)>,\n",
       " <Heartbeat(Heartbeat, started daemon 15272)>,\n",
       " <ControlThread(Control, started daemon 23372)>,\n",
       " <HistorySavingThread(IPythonHistorySavingThread, started 16952)>,\n",
       " <ParentPollerWindows(Thread-4, started daemon 1620)>,\n",
       " <Thread(Thread-5 (do_nothing), started 21260)>,\n",
       " <Thread(Thread-6 (do_nothing), started 22672)>,\n",
       " <Thread(Thread-7 (do_nothing), started 13612)>,\n",
       " <Thread(Thread-8 (do_nothing), started 18320)>,\n",
       " <Thread(Thread-9 (do_nothing), started 20608)>,\n",
       " <Thread(Thread-10 (do_nothing), started 15648)>,\n",
       " <Thread(Thread-11 (do_nothing), started 16712)>,\n",
       " <Thread(Thread-12 (do_nothing), started 7308)>,\n",
       " <Thread(Thread-13 (do_nothing), started 10100)>,\n",
       " <Thread(Thread-14 (do_nothing), started 17400)>,\n",
       " <Thread(Thread-15 (do_nothing), started 9280)>,\n",
       " <Thread(Thread-16 (do_nothing), started 3340)>,\n",
       " <Thread(Thread-17 (do_nothing), started 19920)>,\n",
       " <Thread(Thread-18 (do_nothing), started 4236)>,\n",
       " <Thread(Thread-19 (do_nothing), started 7140)>,\n",
       " <Thread(Thread-20 (do_nothing), started 16408)>,\n",
       " <Thread(Thread-21 (do_nothing), started 10120)>,\n",
       " <Thread(Thread-22 (do_nothing), started 7072)>,\n",
       " <Thread(Thread-23 (do_nothing), started 13804)>,\n",
       " <Thread(Thread-24 (do_nothing), started 16108)>,\n",
       " <Thread(Thread-25 (do_nothing), started 19068)>,\n",
       " <Thread(Thread-26 (do_nothing), started 22260)>,\n",
       " <Thread(Thread-27 (do_nothing), started 8520)>,\n",
       " <Thread(Thread-28 (do_nothing), started 22112)>,\n",
       " <Thread(Thread-29 (do_nothing), started 21388)>,\n",
       " <Thread(Thread-30 (do_nothing), started 22224)>,\n",
       " <Thread(Thread-31 (do_nothing), started 19532)>,\n",
       " <Thread(Thread-32 (do_nothing), started 8708)>,\n",
       " <Thread(Thread-33 (do_nothing), started 8092)>,\n",
       " <Thread(Thread-34 (do_nothing), started 8308)>,\n",
       " <Thread(Thread-35 (do_nothing), started 22380)>,\n",
       " <Thread(Thread-36 (do_nothing), started 15932)>,\n",
       " <Thread(Thread-37 (do_nothing), started 21160)>,\n",
       " <Thread(Thread-38 (do_nothing), started 17156)>,\n",
       " <Thread(Thread-39 (do_nothing), started 20600)>,\n",
       " <Thread(Thread-40 (do_nothing), started 11832)>,\n",
       " <Thread(Thread-41 (do_nothing), started 14152)>,\n",
       " <Thread(Thread-42 (do_nothing), started 6360)>,\n",
       " <Thread(Thread-43 (do_nothing), started 3180)>,\n",
       " <Thread(Thread-44 (do_nothing), started 2340)>]"
      ]
     },
     "execution_count": 18,
     "metadata": {},
     "output_type": "execute_result"
    }
   ],
   "source": [
    "for i in range(20):\n",
    "    th.Thread(target=do_nothing).start()\n",
    "\n",
    "th.enumerate()"
   ]
  },
  {
   "cell_type": "markdown",
   "id": "3bb703ab-fe33-4cd4-ad4d-ed98944ec9fb",
   "metadata": {},
   "source": [
    "### Process ex."
   ]
  },
  {
   "cell_type": "code",
   "execution_count": null,
   "id": "7fff5834-ebd6-4301-bb10-0f2caebd77df",
   "metadata": {},
   "outputs": [],
   "source": [
    "for i in range(20):\n",
    "    mp.Process(target = do_nothing()).start"
   ]
  },
  {
   "cell_type": "markdown",
   "id": "29adea02-0a52-467b-b735-94940e842076",
   "metadata": {},
   "source": [
    "### Cuantos hilos puedo instanciar?"
   ]
  },
  {
   "cell_type": "code",
   "execution_count": null,
   "id": "7fd56351-1ea6-4dce-af61-b8189b2962bc",
   "metadata": {},
   "outputs": [],
   "source": []
  },
  {
   "cell_type": "markdown",
   "id": "18d04a3b-739e-4d98-9395-44aef15a4db4",
   "metadata": {},
   "source": [
    "### import libs, manage process (cores)"
   ]
  },
  {
   "cell_type": "code",
   "execution_count": 22,
   "id": "c4558820-4ecb-4d7e-aec9-575fe12c539a",
   "metadata": {},
   "outputs": [],
   "source": [
    "import multiprocessing as mp # Manages cores"
   ]
  },
  {
   "cell_type": "code",
   "execution_count": 6,
   "id": "417af913-8bfb-49ed-9bfc-cab093b5a772",
   "metadata": {},
   "outputs": [
    {
     "data": {
      "text/plain": [
       "8"
      ]
     },
     "execution_count": 6,
     "metadata": {},
     "output_type": "execute_result"
    }
   ],
   "source": [
    "mp.cpu_count()"
   ]
  },
  {
   "cell_type": "code",
   "execution_count": 7,
   "id": "c93f62b8-25cf-45bd-842e-338a6d301908",
   "metadata": {},
   "outputs": [
    {
     "data": {
      "text/plain": [
       "<_MainProcess name='MainProcess' parent=None started>"
      ]
     },
     "execution_count": 7,
     "metadata": {},
     "output_type": "execute_result"
    }
   ],
   "source": [
    "mp.current_process()"
   ]
  },
  {
   "cell_type": "markdown",
   "id": "a8968cd9-4c41-430f-aaec-937fbdba94ca",
   "metadata": {},
   "source": [
    "### Cual es mi interprete de Python?"
   ]
  },
  {
   "cell_type": "code",
   "execution_count": 9,
   "id": "359c5438-d57e-4da0-8a73-15a6d7e55504",
   "metadata": {},
   "outputs": [
    {
     "name": "stdout",
     "output_type": "stream",
     "text": [
      "Python 3.11.5\n"
     ]
    }
   ],
   "source": [
    "! python3 --version"
   ]
  },
  {
   "cell_type": "code",
   "execution_count": 10,
   "id": "64e14df2-cc8d-491f-b3c1-80b681d09e12",
   "metadata": {},
   "outputs": [],
   "source": [
    "import platform as pt"
   ]
  },
  {
   "cell_type": "code",
   "execution_count": 11,
   "id": "8ecf996b-e768-4f47-8c01-737f58d31667",
   "metadata": {},
   "outputs": [
    {
     "data": {
      "text/plain": [
       "'CPython'"
      ]
     },
     "execution_count": 11,
     "metadata": {},
     "output_type": "execute_result"
    }
   ],
   "source": [
    "pt.python_implementation()"
   ]
  },
  {
   "cell_type": "code",
   "execution_count": 12,
   "id": "0fbedee9-4823-493d-982c-c445e278df84",
   "metadata": {},
   "outputs": [
    {
     "data": {
      "text/plain": [
       "'MSC v.1936 64 bit (AMD64)'"
      ]
     },
     "execution_count": 12,
     "metadata": {},
     "output_type": "execute_result"
    }
   ],
   "source": [
    "pt.python_compiler()"
   ]
  },
  {
   "cell_type": "code",
   "execution_count": 14,
   "id": "d647ed27-fcb2-40d5-9f57-7c033470a2c5",
   "metadata": {},
   "outputs": [
    {
     "data": {
      "text/plain": [
       "[[1, 2, 3, 4], [4, 6, 7]]"
      ]
     },
     "execution_count": 14,
     "metadata": {},
     "output_type": "execute_result"
    }
   ],
   "source": [
    "[[1, 2, 3, 4], [4, 6, 7]]"
   ]
  },
  {
   "cell_type": "code",
   "execution_count": null,
   "id": "30b896e1-9324-4022-a774-9102b47ca4d3",
   "metadata": {},
   "outputs": [],
   "source": [
    "!git status"
   ]
  },
  {
   "cell_type": "code",
   "execution_count": null,
   "id": "b7838cfe-66fd-496d-b0a5-2538a5c4a42a",
   "metadata": {},
   "outputs": [],
   "source": []
  }
 ],
 "metadata": {
  "kernelspec": {
   "display_name": "Python 3 (ipykernel)",
   "language": "python",
   "name": "python3"
  },
  "language_info": {
   "codemirror_mode": {
    "name": "ipython",
    "version": 3
   },
   "file_extension": ".py",
   "mimetype": "text/x-python",
   "name": "python",
   "nbconvert_exporter": "python",
   "pygments_lexer": "ipython3",
   "version": "3.11.5"
  }
 },
 "nbformat": 4,
 "nbformat_minor": 5
}
