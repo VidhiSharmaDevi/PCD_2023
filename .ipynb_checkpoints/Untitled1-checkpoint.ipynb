{
 "cells": [
  {
   "cell_type": "code",
   "execution_count": 1,
   "id": "c5e9fe23-11d7-4a14-b591-443a694873bd",
   "metadata": {},
   "outputs": [
    {
     "name": "stdout",
     "output_type": "stream",
     "text": [
      "Collecting python3-nmap\n",
      "  Downloading python3_nmap-1.6.0-py3-none-any.whl (26 kB)\n",
      "Collecting simplejson (from python3-nmap)\n",
      "  Downloading simplejson-3.19.1-cp311-cp311-win_amd64.whl (75 kB)\n",
      "     ---------------------------------------- 0.0/75.3 kB ? eta -:--:--\n",
      "     ---------------------------------------- 75.3/75.3 kB 4.3 MB/s eta 0:00:00\n",
      "Installing collected packages: simplejson, python3-nmap\n",
      "Successfully installed python3-nmap-1.6.0 simplejson-3.19.1\n"
     ]
    }
   ],
   "source": [
    "!pip install python3-nmap"
   ]
  },
  {
   "cell_type": "code",
   "execution_count": 2,
   "id": "64b5797b-f1ab-44e5-a823-bf7d3f64e9ef",
   "metadata": {},
   "outputs": [
    {
     "ename": "SyntaxError",
     "evalue": "invalid syntax (63295040.py, line 1)",
     "output_type": "error",
     "traceback": [
      "\u001b[1;36m  Cell \u001b[1;32mIn[2], line 1\u001b[1;36m\u001b[0m\n\u001b[1;33m    import python3-nmap as nmap\u001b[0m\n\u001b[1;37m                  ^\u001b[0m\n\u001b[1;31mSyntaxError\u001b[0m\u001b[1;31m:\u001b[0m invalid syntax\n"
     ]
    }
   ],
   "source": [
    "import python3-nmap as nmap"
   ]
  },
  {
   "cell_type": "code",
   "execution_count": null,
   "id": "f9358ac4-f7da-4b30-b213-3a1d14ee2c69",
   "metadata": {},
   "outputs": [],
   "source": [
    "import"
   ]
  }
 ],
 "metadata": {
  "kernelspec": {
   "display_name": "Python 3 (ipykernel)",
   "language": "python",
   "name": "python3"
  },
  "language_info": {
   "codemirror_mode": {
    "name": "ipython",
    "version": 3
   },
   "file_extension": ".py",
   "mimetype": "text/x-python",
   "name": "python",
   "nbconvert_exporter": "python",
   "pygments_lexer": "ipython3",
   "version": "3.11.5"
  }
 },
 "nbformat": 4,
 "nbformat_minor": 5
}
