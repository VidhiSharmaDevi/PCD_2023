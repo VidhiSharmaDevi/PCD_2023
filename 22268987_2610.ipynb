{
 "cells": [
  {
   "cell_type": "markdown",
   "id": "755d9fc3-af2c-481e-91b8-e4a1419ba451",
   "metadata": {},
   "source": [
    "## matriz A que tenga 300 x 300, con numeros aleatorios de 0 a mi numero de expediente"
   ]
  },
  {
   "cell_type": "code",
   "execution_count": 1,
   "id": "ec125209-4ec9-474a-843a-53a346f045fe",
   "metadata": {},
   "outputs": [],
   "source": [
    "import numpy as np"
   ]
  },
  {
   "cell_type": "code",
   "execution_count": 6,
   "id": "6ebd4bd0-40ca-4c12-b850-3691b58a8437",
   "metadata": {},
   "outputs": [],
   "source": [
    "matriz = np.random.randint(0, 223, (300, 300))"
   ]
  },
  {
   "cell_type": "code",
   "execution_count": 7,
   "id": "07345405-2814-482d-9120-0bd24b61a724",
   "metadata": {},
   "outputs": [
    {
     "name": "stdout",
     "output_type": "stream",
     "text": [
      "[[  3  37  69 ...   8 121 118]\n",
      " [167  70 157 ... 166  18  45]\n",
      " [138 135  17 ...  42  84 139]\n",
      " ...\n",
      " [114 130 177 ... 190 180  98]\n",
      " [ 32  47  58 ...   9 129 168]\n",
      " [168  51  31 ... 156 195 164]]\n"
     ]
    }
   ],
   "source": [
    "print(matriz)"
   ]
  },
  {
   "cell_type": "markdown",
   "id": "cff7cfb9-a4e7-40d7-bc50-e8ab3db67578",
   "metadata": {},
   "source": [
    "## 2 forma"
   ]
  },
  {
   "cell_type": "code",
   "execution_count": 19,
   "id": "68c36757-2a54-4017-a1ba-cc6d27782190",
   "metadata": {},
   "outputs": [],
   "source": [
    "for i in range (300):\n",
    "    for j in range(300):\n",
    "        a=[i, j]"
   ]
  },
  {
   "cell_type": "code",
   "execution_count": 50,
   "id": "2916bd7c-727f-4364-b51c-646446763c88",
   "metadata": {},
   "outputs": [],
   "source": [
    "import random as rd"
   ]
  },
  {
   "cell_type": "code",
   "execution_count": 90,
   "id": "25ca8a16-88bd-40b6-8790-6b7bba0e64f9",
   "metadata": {},
   "outputs": [],
   "source": [
    "A = [[rd.randint(0,222) for i in range (fil_A)] for j in range(col_A)]"
   ]
  },
  {
   "cell_type": "code",
   "execution_count": 91,
   "id": "aeb34e7c-4fca-4cfa-88a2-aa8b83d06068",
   "metadata": {},
   "outputs": [],
   "source": [
    "B = [[rd.randint(0,222) for i in range (fil_B)] for j in range(col_B)]"
   ]
  },
  {
   "cell_type": "code",
   "execution_count": 53,
   "id": "cee651b4-0e7f-4c94-9878-4ecb8d0d78d3",
   "metadata": {},
   "outputs": [
    {
     "data": {
      "text/plain": [
       "10"
      ]
     },
     "execution_count": 53,
     "metadata": {},
     "output_type": "execute_result"
    }
   ],
   "source": [
    "len(A)"
   ]
  },
  {
   "cell_type": "code",
   "execution_count": 101,
   "id": "a874ac4a-3041-4452-90e5-3d2fa6191f99",
   "metadata": {},
   "outputs": [
    {
     "data": {
      "text/plain": [
       "[[204, 17, 133], [61, 165, 121], [188, 170, 135]]"
      ]
     },
     "execution_count": 101,
     "metadata": {},
     "output_type": "execute_result"
    }
   ],
   "source": [
    "A"
   ]
  },
  {
   "cell_type": "code",
   "execution_count": 45,
   "id": "7503b27d-ae3e-4188-b9b3-9b67a91834b3",
   "metadata": {},
   "outputs": [
    {
     "data": {
      "text/plain": [
       "20"
      ]
     },
     "execution_count": 45,
     "metadata": {},
     "output_type": "execute_result"
    }
   ],
   "source": [
    "len(B[0])"
   ]
  },
  {
   "cell_type": "code",
   "execution_count": 71,
   "id": "96219ec5-f2d2-47de-a0b9-e82b21230009",
   "metadata": {},
   "outputs": [
    {
     "data": {
      "text/plain": [
       "[[7, 107, 72, 77, 142, 110, 96, 2, 202, 207],\n",
       " [152, 170, 84, 21, 96, 2, 151, 48, 112, 53],\n",
       " [129, 81, 50, 205, 145, 178, 69, 157, 176, 30],\n",
       " [196, 60, 36, 71, 171, 79, 22, 14, 98, 57],\n",
       " [216, 195, 30, 15, 44, 27, 134, 43, 58, 113]]"
      ]
     },
     "execution_count": 71,
     "metadata": {},
     "output_type": "execute_result"
    }
   ],
   "source": [
    "B"
   ]
  },
  {
   "cell_type": "code",
   "execution_count": 55,
   "id": "b1f5a244-73dd-42c0-8c1e-531953c12660",
   "metadata": {},
   "outputs": [
    {
     "name": "stdout",
     "output_type": "stream",
     "text": [
      "Las matrices deben ser compatibles\n"
     ]
    }
   ],
   "source": [
    "if len(A[0]) == len(B):\n",
    "    print(\"La matriz A es compatible con la matriz B\")\n",
    "else:\n",
    "    print('Las matrices deben ser compatibles')"
   ]
  },
  {
   "cell_type": "code",
   "execution_count": 86,
   "id": "1fc44c70-b838-48d8-906c-822f08c56c19",
   "metadata": {},
   "outputs": [
    {
     "name": "stdin",
     "output_type": "stream",
     "text": [
      "Ingrese las columnas de A : 3\n"
     ]
    }
   ],
   "source": [
    "col_A = int(input('Ingrese las columnas de A :'))"
   ]
  },
  {
   "cell_type": "code",
   "execution_count": 87,
   "id": "2874377b-4eb1-4ba3-ae77-2791f352efa6",
   "metadata": {},
   "outputs": [
    {
     "name": "stdin",
     "output_type": "stream",
     "text": [
      "Ingrese las filas de A : 3\n"
     ]
    }
   ],
   "source": [
    "fil_A = int(input('Ingrese las filas de A :'))"
   ]
  },
  {
   "cell_type": "code",
   "execution_count": 88,
   "id": "4f624568-658d-4580-8931-71376dfca4dc",
   "metadata": {},
   "outputs": [
    {
     "name": "stdin",
     "output_type": "stream",
     "text": [
      "Ingrese las columnas de B : 3\n"
     ]
    }
   ],
   "source": [
    "col_B = int(input('Ingrese las columnas de B :'))"
   ]
  },
  {
   "cell_type": "code",
   "execution_count": 89,
   "id": "6e812356-9613-46bd-9b13-98d536c33f0a",
   "metadata": {},
   "outputs": [
    {
     "name": "stdin",
     "output_type": "stream",
     "text": [
      "Ingrese las filas de A : 3\n"
     ]
    }
   ],
   "source": [
    "fil_B = int(input('Ingrese las filas de A :'))"
   ]
  },
  {
   "cell_type": "code",
   "execution_count": 66,
   "id": "16eb3392-947b-4094-bfb0-62a105c9097c",
   "metadata": {},
   "outputs": [
    {
     "name": "stdout",
     "output_type": "stream",
     "text": [
      "las dimensiones introducidas son A : 4 5\n"
     ]
    }
   ],
   "source": [
    "print(\"las dimensiones introducidas son A :\", fil_A, col_A)"
   ]
  },
  {
   "cell_type": "code",
   "execution_count": 68,
   "id": "50a165ce-f185-4c8a-94eb-26d1b01858d6",
   "metadata": {},
   "outputs": [
    {
     "name": "stdout",
     "output_type": "stream",
     "text": [
      "las dimensiones introducidas son B : 54 9\n"
     ]
    }
   ],
   "source": [
    "print(\"las dimensiones introducidas son B :\", fil_B, col_B)"
   ]
  },
  {
   "cell_type": "code",
   "execution_count": 99,
   "id": "ccdab37b-60de-447a-8874-ec264e386442",
   "metadata": {},
   "outputs": [],
   "source": [
    "def mult_seq(A, B):\n",
    "    m = len(A) \n",
    "    n = len(A[0])\n",
    "    p = len(B[0])\n",
    "    C = [[0 for _ in range(p)] for _ in range(m)]\n",
    "    if len(B) != n:\n",
    "        print(\"No es posible multiplicar estas matrices. Las dimensiones no son compatibles.\")\n",
    "        return None\n",
    "        \n",
    "    for i in range(m):\n",
    "        for j in range(p):\n",
    "            for k in range(n):\n",
    "                C[i][j] += A[i][k] * B[k][j]\n",
    "    return C"
   ]
  },
  {
   "cell_type": "code",
   "execution_count": 100,
   "id": "8c85fc70-8167-47b9-a3d1-4f0492bf24d0",
   "metadata": {},
   "outputs": [
    {
     "data": {
      "text/plain": [
       "[[50345, 52433, 34010], [44459, 59194, 43179], [63363, 81082, 51458]]"
      ]
     },
     "execution_count": 100,
     "metadata": {},
     "output_type": "execute_result"
    }
   ],
   "source": [
    "mult_seq(A, B)"
   ]
  },
  {
   "cell_type": "code",
   "execution_count": null,
   "id": "0809286d-e55e-41ae-b51c-038bc29b0146",
   "metadata": {},
   "outputs": [],
   "source": []
  }
 ],
 "metadata": {
  "kernelspec": {
   "display_name": "Python 3 (ipykernel)",
   "language": "python",
   "name": "python3"
  },
  "language_info": {
   "codemirror_mode": {
    "name": "ipython",
    "version": 3
   },
   "file_extension": ".py",
   "mimetype": "text/x-python",
   "name": "python",
   "nbconvert_exporter": "python",
   "pygments_lexer": "ipython3",
   "version": "3.11.5"
  }
 },
 "nbformat": 4,
 "nbformat_minor": 5
}
