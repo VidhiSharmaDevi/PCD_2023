{
 "cells": [
  {
   "cell_type": "markdown",
   "id": "551ba02c-4163-4f5b-bfe2-69060d39faf6",
   "metadata": {},
   "source": [
    "## Primera clase PCD"
   ]
  },
  {
   "cell_type": "markdown",
   "id": "3cade0b6-29af-4076-9dfd-76a31d573bc2",
   "metadata": {},
   "source": [
    "1. Muestra que version de pip tiene?"
   ]
  },
  {
   "cell_type": "code",
   "execution_count": 1,
   "id": "9333e88c-1604-4a71-8293-86c5a4d3e9d1",
   "metadata": {},
   "outputs": [
    {
     "name": "stdout",
     "output_type": "stream",
     "text": [
      "pip 23.2.1 from C:\\Users\\Vidhi\\AppData\\Local\\Programs\\Python\\Python311\\Lib\\site-packages\\pip (python 3.11)\n",
      "\n"
     ]
    }
   ],
   "source": [
    "!pip --version"
   ]
  },
  {
   "cell_type": "markdown",
   "id": "edcb69cf-3c47-4452-b7c2-1e58742fddd8",
   "metadata": {},
   "source": [
    "## System Specs (caracteristicas)"
   ]
  },
  {
   "cell_type": "code",
   "execution_count": 2,
   "id": "b8c346cc-c3ab-428b-8b22-7b964ba551b2",
   "metadata": {},
   "outputs": [],
   "source": [
    "import platform as pt"
   ]
  },
  {
   "cell_type": "code",
   "execution_count": 9,
   "id": "31f8b05f-7840-4b10-90ee-a740d0b15927",
   "metadata": {},
   "outputs": [
    {
     "data": {
      "text/plain": [
       "uname_result(system='Windows', node='LAPTOP-E9V7Q721', release='10', version='10.0.22621', machine='AMD64')"
      ]
     },
     "execution_count": 9,
     "metadata": {},
     "output_type": "execute_result"
    }
   ],
   "source": [
    "pt.uname()"
   ]
  },
  {
   "cell_type": "code",
   "execution_count": 10,
   "id": "58e612ab-0173-4faa-bdbd-4fa078eb1b0c",
   "metadata": {},
   "outputs": [
    {
     "data": {
      "text/plain": [
       "'Windows-10-10.0.22621-SP0'"
      ]
     },
     "execution_count": 10,
     "metadata": {},
     "output_type": "execute_result"
    }
   ],
   "source": [
    "pt.platform()"
   ]
  },
  {
   "cell_type": "markdown",
   "id": "8bdb2263-d3b4-474d-a0d2-793edfa4ac4e",
   "metadata": {},
   "source": [
    "## Cores?"
   ]
  },
  {
   "cell_type": "code",
   "execution_count": 11,
   "id": "1e254cbb-a59e-4e8a-b9c6-9324b39d7412",
   "metadata": {},
   "outputs": [],
   "source": [
    "import os"
   ]
  },
  {
   "cell_type": "code",
   "execution_count": 12,
   "id": "bce7c8ef-2932-46c9-a816-a25602d900b8",
   "metadata": {},
   "outputs": [
    {
     "data": {
      "text/plain": [
       "8"
      ]
     },
     "execution_count": 12,
     "metadata": {},
     "output_type": "execute_result"
    }
   ],
   "source": [
    "os.cpu_count()"
   ]
  },
  {
   "cell_type": "code",
   "execution_count": null,
   "id": "0e8c6cdc-a119-437d-a948-eefdff0965ce",
   "metadata": {},
   "outputs": [],
   "source": []
  }
 ],
 "metadata": {
  "kernelspec": {
   "display_name": "Python 3 (ipykernel)",
   "language": "python",
   "name": "python3"
  },
  "language_info": {
   "codemirror_mode": {
    "name": "ipython",
    "version": 3
   },
   "file_extension": ".py",
   "mimetype": "text/x-python",
   "name": "python",
   "nbconvert_exporter": "python",
   "pygments_lexer": "ipython3",
   "version": "3.11.5"
  }
 },
 "nbformat": 4,
 "nbformat_minor": 5
}
