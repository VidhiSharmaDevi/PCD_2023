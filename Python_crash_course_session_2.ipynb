{
 "cells": [
  {
   "cell_type": "markdown",
   "id": "62cb9dea-1f9a-4914-a191-c4e09a341829",
   "metadata": {},
   "source": [
    "<!-- PROFILE LINK -->\n",
    "<h1 style = \"text-align:center; font-size: 30px\">PROGRAMACIÓN CONCURRENTE Y DISTRIBUIDA</h1>\n",
    "<a href =\"https://github.com/sukuzhanay\">\n",
    "<img src=\"https://avatars.githubusercontent.com/u/17354471?v=4\" style=\"float:left;vertical-align:centre\" width=\"110\" height=\"110\" title = \"Christian Vlaldimir Sucuzhanay Arevalo 21535220\">\n",
    "<a href =\"https://github.com/sukuzhanay?tab=repositories\">\n",
    "<img src=\"https://media-exp1.licdn.com/dms/image/C4D0BAQEu_Aa76fcmPw/company-logo_200_200/0/1630998679429?e=2159024400&v=beta&t=2feC9GG7RWCWizTqsK5HzDWB1TL2DOQuAVwnMf6FFvk\" title = \"M41\" alt=\"UE\" width=\"110\" height=\"110\" style=\"float:right;vertical-align:centre\">"
   ]
  },
  {
   "cell_type": "markdown",
   "id": "b5aae5fa",
   "metadata": {},
   "source": [
    "# Python crash course\n",
    "## *Session 2*"
   ]
  },
  {
   "cell_type": "markdown",
   "id": "08131300",
   "metadata": {},
   "source": [
    "En sesión anterior vimos que tenemos disponibles una serie de tipos básicos:\n",
    "* Cadenas de texto.\n",
    "* Booleanos.\n",
    "* Numéricos: entero, decimal, complejo.\n",
    "* Colecciones: listas, tuplas, conjuntos, diccionarios.\n",
    "Y como asignar valores a objetos (variables) para crearlos con el operador `=`.\n",
    "\n",
    "Adicionalmente tenemos funciones que nos permiten cambiar de tipo a los objetos:"
   ]
  },
  {
   "cell_type": "code",
   "execution_count": 1,
   "id": "e4d3f9f9",
   "metadata": {},
   "outputs": [],
   "source": [
    "x11 = 24\n",
    "x12 = int(24)\n",
    "x21 = 33\n",
    "x22 = float(33)\n",
    "z = complex(x11)\n",
    "\n",
    "l1 = [1,2,3]\n",
    "t1 = (4,5,6)\n",
    "l2 = tuple(l1)\n",
    "t2 = list(t1)\n",
    "\n",
    "c1 = set(l1)\n",
    "\n",
    "r1 = list()\n",
    "r2 = tuple()\n",
    "r3 = set()"
   ]
  },
  {
   "cell_type": "code",
   "execution_count": 2,
   "id": "388dfba6",
   "metadata": {},
   "outputs": [
    {
     "data": {
      "text/plain": [
       "float"
      ]
     },
     "execution_count": 2,
     "metadata": {},
     "output_type": "execute_result"
    }
   ],
   "source": [
    "type(x22)"
   ]
  },
  {
   "cell_type": "code",
   "execution_count": 3,
   "id": "6147afb8-efda-4e56-a18b-a60fa64c75b2",
   "metadata": {},
   "outputs": [
    {
     "data": {
      "text/plain": [
       "{1, 2, 3}"
      ]
     },
     "execution_count": 3,
     "metadata": {},
     "output_type": "execute_result"
    }
   ],
   "source": [
    "c1"
   ]
  },
  {
   "cell_type": "code",
   "execution_count": 4,
   "id": "61661ca6-0e28-4ac4-99b2-22ed7f897d38",
   "metadata": {},
   "outputs": [
    {
     "data": {
      "text/plain": [
       "set()"
      ]
     },
     "execution_count": 4,
     "metadata": {},
     "output_type": "execute_result"
    }
   ],
   "source": [
    "r3"
   ]
  },
  {
   "cell_type": "code",
   "execution_count": 11,
   "id": "0ac30058",
   "metadata": {},
   "outputs": [],
   "source": [
    "lista1 = [1,2,3]"
   ]
  },
  {
   "cell_type": "code",
   "execution_count": null,
   "id": "d5885448-c130-40ec-81e5-738e66f7bbf0",
   "metadata": {},
   "outputs": [],
   "source": []
  },
  {
   "cell_type": "code",
   "execution_count": 12,
   "id": "c95af80c",
   "metadata": {},
   "outputs": [],
   "source": [
    "lista2 = lista1"
   ]
  },
  {
   "cell_type": "code",
   "execution_count": 13,
   "id": "f563a2f2",
   "metadata": {},
   "outputs": [
    {
     "name": "stdout",
     "output_type": "stream",
     "text": [
      "[1, 2, 3]\n",
      "[1, 2, 3]\n"
     ]
    }
   ],
   "source": [
    "print(lista1)\n",
    "print(lista2)"
   ]
  },
  {
   "cell_type": "code",
   "execution_count": 15,
   "id": "f7740872",
   "metadata": {},
   "outputs": [],
   "source": [
    "lista2[1]= 99"
   ]
  },
  {
   "cell_type": "code",
   "execution_count": 16,
   "id": "e5cc913f",
   "metadata": {},
   "outputs": [
    {
     "name": "stdout",
     "output_type": "stream",
     "text": [
      "[1, 99, 3]\n",
      "[1, 99, 3]\n"
     ]
    }
   ],
   "source": [
    "print(lista1)\n",
    "print(lista2)"
   ]
  },
  {
   "cell_type": "code",
   "execution_count": 17,
   "id": "5dc75065",
   "metadata": {},
   "outputs": [],
   "source": [
    "lista1.append(88)"
   ]
  },
  {
   "cell_type": "code",
   "execution_count": 18,
   "id": "9fe1fc43",
   "metadata": {},
   "outputs": [
    {
     "name": "stdout",
     "output_type": "stream",
     "text": [
      "[1, 99, 3, 88]\n",
      "[1, 99, 3, 88]\n"
     ]
    }
   ],
   "source": [
    "print(lista1)\n",
    "print(lista2)"
   ]
  },
  {
   "cell_type": "code",
   "execution_count": 19,
   "id": "79a5c6b8",
   "metadata": {},
   "outputs": [],
   "source": [
    "lista3 = lista1.copy()"
   ]
  },
  {
   "cell_type": "code",
   "execution_count": 20,
   "id": "8d77c87a",
   "metadata": {},
   "outputs": [],
   "source": [
    "lista3.append(77)"
   ]
  },
  {
   "cell_type": "code",
   "execution_count": 21,
   "id": "dab59b3b",
   "metadata": {},
   "outputs": [
    {
     "name": "stdout",
     "output_type": "stream",
     "text": [
      "[1, 99, 3, 88]\n",
      "[1, 99, 3, 88]\n",
      "[1, 99, 3, 88, 77]\n"
     ]
    }
   ],
   "source": [
    "print(lista1)\n",
    "print(lista2)\n",
    "print(lista3)"
   ]
  },
  {
   "cell_type": "code",
   "execution_count": null,
   "id": "9db397ad",
   "metadata": {},
   "outputs": [],
   "source": [
    "lista1.append(66)"
   ]
  },
  {
   "cell_type": "code",
   "execution_count": null,
   "id": "4dd5f6aa",
   "metadata": {},
   "outputs": [],
   "source": [
    "print(lista1)\n",
    "print(lista2)\n",
    "print(lista3)"
   ]
  },
  {
   "cell_type": "markdown",
   "id": "bde8ae70",
   "metadata": {},
   "source": [
    "También existe una función para comprobar si un objeto es de un determinado tipo"
   ]
  },
  {
   "cell_type": "code",
   "execution_count": 22,
   "id": "fafdbd92",
   "metadata": {},
   "outputs": [],
   "source": [
    "v1 = 99"
   ]
  },
  {
   "cell_type": "code",
   "execution_count": 23,
   "id": "7208f5ef",
   "metadata": {},
   "outputs": [
    {
     "name": "stdout",
     "output_type": "stream",
     "text": [
      "True False\n"
     ]
    }
   ],
   "source": [
    "print(isinstance(v1, int), isinstance(v1, float)) "
   ]
  },
  {
   "cell_type": "markdown",
   "id": "fe9b6d77",
   "metadata": {},
   "source": [
    "### El tipo conjunto\n",
    "\n",
    "Un conjunto es una colección de elementos no ordenados, no modificables y no permite duplicados.\n",
    "\n",
    "Su definición se realiza mediante llaves `{ }`.\n",
    "También existe el tipo `frozenset` que es una versión no inmutable del conjunto.\n",
    "\n",
    "Al tratarse de conjuntos vamos a poder aplicar las operaciones de conjuntos.\n",
    "* Inclusión\n",
    "* Intersección\n",
    "* Unión\n"
   ]
  },
  {
   "cell_type": "code",
   "execution_count": 27,
   "id": "6ab964e4",
   "metadata": {},
   "outputs": [
    {
     "name": "stdout",
     "output_type": "stream",
     "text": [
      "{(1+5j), 1, 'casa', 90, 'perro'}\n",
      "{1, 90.0, 3.2, 25}\n"
     ]
    }
   ],
   "source": [
    "A = {'casa', 'perro', 1, 1+5j, 90, 90.0}; print(A)\n",
    "B = {1, 3.2, 25, 90.0}; print(B)"
   ]
  },
  {
   "cell_type": "code",
   "execution_count": 25,
   "id": "a7b1b656",
   "metadata": {},
   "outputs": [
    {
     "name": "stdout",
     "output_type": "stream",
     "text": [
      "False\n",
      "True\n"
     ]
    }
   ],
   "source": [
    "# INCLUSION DE ELEMENTOS\n",
    "print('gato' in A)\n",
    "print('perro' in A)"
   ]
  },
  {
   "cell_type": "code",
   "execution_count": null,
   "id": "995f9ee2",
   "metadata": {},
   "outputs": [],
   "source": [
    "{1, 90} in A"
   ]
  },
  {
   "cell_type": "code",
   "execution_count": 26,
   "id": "2b702814",
   "metadata": {},
   "outputs": [
    {
     "name": "stdout",
     "output_type": "stream",
     "text": [
      "{1, 3.2, 'perro', (1+5j), 'casa', 25, 90}\n",
      "{1, 3.2, 'perro', (1+5j), 'casa', 25, 90.0}\n"
     ]
    }
   ],
   "source": [
    "# UNION DE DOS O MAS CONJUNTOS\n",
    "print(A | B)\n",
    "print(B | A)"
   ]
  },
  {
   "cell_type": "code",
   "execution_count": null,
   "id": "4653cb68",
   "metadata": {},
   "outputs": [],
   "source": [
    "A | (25,6,'gato')"
   ]
  },
  {
   "cell_type": "code",
   "execution_count": null,
   "id": "3974d32f",
   "metadata": {},
   "outputs": [],
   "source": [
    "A.union(B)"
   ]
  },
  {
   "cell_type": "code",
   "execution_count": null,
   "id": "25112962",
   "metadata": {},
   "outputs": [],
   "source": [
    "A.union((25,6,'gato'))"
   ]
  },
  {
   "cell_type": "code",
   "execution_count": null,
   "id": "a7dd17b5",
   "metadata": {},
   "outputs": [],
   "source": [
    "# INTERSECCIÓN DE DOS O MÁS CONJUNTOS\n",
    "A & B"
   ]
  },
  {
   "cell_type": "code",
   "execution_count": null,
   "id": "a5a44ed0",
   "metadata": {},
   "outputs": [],
   "source": [
    "B.intersection(A)"
   ]
  },
  {
   "cell_type": "code",
   "execution_count": null,
   "id": "0e4af082",
   "metadata": {},
   "outputs": [],
   "source": [
    "# DIFERENCIA DE CONJUNTOS"
   ]
  },
  {
   "cell_type": "code",
   "execution_count": null,
   "id": "d6396bba",
   "metadata": {},
   "outputs": [],
   "source": [
    "A - B"
   ]
  },
  {
   "cell_type": "code",
   "execution_count": null,
   "id": "4b0ee20d",
   "metadata": {},
   "outputs": [],
   "source": [
    "A.difference(B)"
   ]
  },
  {
   "cell_type": "code",
   "execution_count": null,
   "id": "ae1aeaf6",
   "metadata": {},
   "outputs": [],
   "source": [
    "# Diferencia simétrica\n",
    "A ^ B"
   ]
  },
  {
   "cell_type": "code",
   "execution_count": null,
   "id": "442b4f27",
   "metadata": {},
   "outputs": [],
   "source": [
    "A.union(B).difference(A.intersection(B))"
   ]
  },
  {
   "cell_type": "code",
   "execution_count": null,
   "id": "5cc8d7d8",
   "metadata": {},
   "outputs": [],
   "source": [
    "# Comprobación de si existen elementos en común.\n",
    "A.isdisjoint(B)"
   ]
  },
  {
   "cell_type": "code",
   "execution_count": null,
   "id": "e11ae7ad",
   "metadata": {},
   "outputs": [],
   "source": [
    "{1, 90}.issubset(A) #inclusión de subconjuntos"
   ]
  },
  {
   "cell_type": "code",
   "execution_count": null,
   "id": "14b094ef",
   "metadata": {},
   "outputs": [],
   "source": [
    "{1, 90} < A"
   ]
  },
  {
   "cell_type": "code",
   "execution_count": null,
   "id": "e3a763ec",
   "metadata": {},
   "outputs": [],
   "source": [
    "{1, 90} <= A"
   ]
  },
  {
   "cell_type": "markdown",
   "id": "69bcfaf1",
   "metadata": {},
   "source": [
    "Cada tipo tiene asociados una serie de métodos (funciones) que nos permiten trabajar con ellos, los podíamos ver al pulsar tabulador después del punto que sigue al objeto que queremos tratar."
   ]
  },
  {
   "cell_type": "markdown",
   "id": "3ca059f4",
   "metadata": {},
   "source": [
    "#### Algunos métodos de cadenas de texto"
   ]
  },
  {
   "cell_type": "code",
   "execution_count": 31,
   "id": "e5d73780",
   "metadata": {},
   "outputs": [],
   "source": [
    "str1 = 'Hablen niños ratas de las UEM'"
   ]
  },
  {
   "cell_type": "code",
   "execution_count": 32,
   "id": "f413672d",
   "metadata": {},
   "outputs": [
    {
     "data": {
      "text/plain": [
       "['Hablen niños ratas de ', ' UEM']"
      ]
     },
     "execution_count": 32,
     "metadata": {},
     "output_type": "execute_result"
    }
   ],
   "source": [
    "str1.split('las') # Genera una lista con cada fragmento de la cadena en una posición según el separador indicado."
   ]
  },
  {
   "cell_type": "code",
   "execution_count": null,
   "id": "f28f665f",
   "metadata": {},
   "outputs": [],
   "source": [
    "print(str1.lower()) # en minúsculas\n",
    "print(str1.upper()) # en mayúsculas"
   ]
  },
  {
   "cell_type": "code",
   "execution_count": null,
   "id": "fe811cb9",
   "metadata": {},
   "outputs": [],
   "source": [
    "str1.strip(' ') # elimina el caracter indicado."
   ]
  },
  {
   "cell_type": "markdown",
   "id": "d5c9fd5e",
   "metadata": {},
   "source": [
    "Existen algunas funciones básicas que son propias de Python base:"
   ]
  },
  {
   "cell_type": "code",
   "execution_count": null,
   "id": "69df2e7b",
   "metadata": {},
   "outputs": [],
   "source": [
    "print(str1) # parar imprimir cadenas de texto."
   ]
  },
  {
   "cell_type": "code",
   "execution_count": null,
   "id": "5c1f04ef",
   "metadata": {},
   "outputs": [],
   "source": [
    "len(str1) #longitud de un objeto, que tenga medida"
   ]
  },
  {
   "cell_type": "code",
   "execution_count": null,
   "id": "191cbdc6",
   "metadata": {},
   "outputs": [],
   "source": [
    "globals() #listar variables"
   ]
  },
  {
   "cell_type": "code",
   "execution_count": null,
   "id": "0372790f",
   "metadata": {},
   "outputs": [],
   "source": [
    "dir() #lista de variables"
   ]
  },
  {
   "cell_type": "markdown",
   "id": "f94c366d",
   "metadata": {},
   "source": [
    "Existen disferentes comandos _mágicos_ del notebook que nos permiten hacer otras cosas"
   ]
  },
  {
   "cell_type": "code",
   "execution_count": null,
   "id": "15c65af2",
   "metadata": {},
   "outputs": [],
   "source": [
    "# listar variables\n",
    "%who "
   ]
  },
  {
   "cell_type": "code",
   "execution_count": null,
   "id": "c5d7070f",
   "metadata": {},
   "outputs": [],
   "source": [
    "#Listar variables tipo y valor\n",
    "%whos"
   ]
  },
  {
   "cell_type": "code",
   "execution_count": null,
   "id": "c0489500",
   "metadata": {},
   "outputs": [],
   "source": [
    "%timeit\n",
    "x=1"
   ]
  },
  {
   "cell_type": "code",
   "execution_count": null,
   "id": "d557d888",
   "metadata": {},
   "outputs": [],
   "source": [
    "# eliminar una o varias variables\n",
    "del x12"
   ]
  },
  {
   "cell_type": "code",
   "execution_count": null,
   "id": "8c93146e",
   "metadata": {},
   "outputs": [],
   "source": [
    "%who"
   ]
  },
  {
   "cell_type": "markdown",
   "id": "c73bdf8e",
   "metadata": {},
   "source": [
    "#### Algunos métodos de las listas"
   ]
  },
  {
   "cell_type": "code",
   "execution_count": null,
   "id": "02aa94e2",
   "metadata": {},
   "outputs": [],
   "source": [
    "lista = [1,2,3,4,5,6,7,8,9,10]"
   ]
  },
  {
   "cell_type": "code",
   "execution_count": null,
   "id": "4e5926d4",
   "metadata": {},
   "outputs": [],
   "source": [
    "lista.append(25) # Añade valor al final de la lista"
   ]
  },
  {
   "cell_type": "code",
   "execution_count": null,
   "id": "0213e2a1",
   "metadata": {},
   "outputs": [],
   "source": [
    "lista.pop() # Devuelve el último valor de la lista y lo elimina."
   ]
  },
  {
   "cell_type": "code",
   "execution_count": null,
   "id": "c2830062",
   "metadata": {},
   "outputs": [],
   "source": [
    "otra_lista = lista.copy() # Permite copiar los valores de una lista a otra."
   ]
  },
  {
   "cell_type": "code",
   "execution_count": null,
   "id": "6529879d",
   "metadata": {},
   "outputs": [],
   "source": [
    "lista.reverse() #invierte el orden"
   ]
  },
  {
   "cell_type": "code",
   "execution_count": null,
   "id": "e236dc5c",
   "metadata": {},
   "outputs": [],
   "source": [
    "lista.sort() #orden la lista"
   ]
  },
  {
   "cell_type": "code",
   "execution_count": null,
   "id": "11f5c45b",
   "metadata": {},
   "outputs": [],
   "source": [
    "lista.clear() #elimina todos los elementos."
   ]
  },
  {
   "cell_type": "markdown",
   "id": "61fcd75d",
   "metadata": {},
   "source": [
    "# Ejercicios"
   ]
  },
  {
   "cell_type": "code",
   "execution_count": 5,
   "id": "b3ae26c1",
   "metadata": {},
   "outputs": [],
   "source": [
    "from random import seed, random, randint, gauss, choice, sample"
   ]
  },
  {
   "cell_type": "code",
   "execution_count": 6,
   "id": "72c1bba7",
   "metadata": {},
   "outputs": [
    {
     "name": "stdout",
     "output_type": "stream",
     "text": [
      "[0.5714025946899135, 0.4288890546751146, 0.5780913011344704, 0.20609823213950174, 0.81332125135732, 0.8235888725334455, 0.6534725339011758, 0.16022955651881965, 0.5206693596399246, 0.32777281162209315, 0.24999667668640035, 0.9528169091459117, 0.9965569925394552, 0.04455638245043303, 0.860161037286291, 0.603190610968185, 0.3816059859191179, 0.28361821790671515, 0.674964847134956, 0.45683115105830563, 0.6858614854745947, 0.6618463200523511, 0.1329781447122128, 0.7678378139439905, 0.9824132490111909, 0.9693881604049188, 0.613326820546709, 0.0442606328646209, 0.004055144158407464, 0.13397252704913387, 0.941002271395834, 0.3028605620290723, 0.3661456016604264, 0.8981962445391883, 0.31436380495645067, 0.5489821840124055, 0.43603095762412225, 0.06499417612685054, 0.5845462257019302, 0.8440678976619022, 0.1564189183874064, 0.2242989686860415, 0.41287020771484073, 0.03692486905862902, 0.4966034986165482, 0.8179828644296319, 0.6578909387591091, 0.5334837356527721, 0.8551257407736, 0.14968813497140154, 0.5672354768631239, 0.3741748177480889, 0.6013045471136395, 0.11291570189443623, 0.7755127010728279, 0.09660583318435267, 0.16636374579324753, 0.8074497520247557, 0.9476939242234907, 0.4332315025514858, 0.41408083174830124, 0.24548187614075512, 0.274703391965577, 0.6172527709741663, 0.17846041072072527, 0.11948250433077712, 0.45573485868103825, 0.1649378065796322, 0.648724831216227, 0.821055674361497, 0.7775113893753993, 0.48013339022434753, 0.34757125622081697, 0.4347105489944344, 0.005008574909348362, 0.7125732007896374, 0.33165722263549546, 0.31942323776053394, 0.07992503242021254, 0.44805592600101607, 0.5828489673005941, 0.390586941842884, 0.8695455453974028, 0.6733532167485129, 0.2414082418108049, 0.5253538488765902, 0.9105338176465975, 0.5201096943214129, 0.6021048687389493, 0.06277362381152096, 0.48938611652176434, 0.4614412627964344, 0.4011298800689024, 0.4204353581465221, 0.5849350493343958, 0.5386670484231432, 0.4898957587909363, 0.16579644053220766, 0.4413468174535875, 0.9686781985609425, 0.4151736932178327, 0.035317829787831156, 0.002830426682370324, 0.5354184513162129, 0.05057294182209637, 0.09274340534219172, 0.10875641262696911, 0.4540783303488197, 0.9926880657637538, 0.48505535080507134]\n"
     ]
    }
   ],
   "source": [
    "seed(10)\n",
    "lista = [random() for i in range(110)]\n",
    "print(lista)"
   ]
  },
  {
   "cell_type": "markdown",
   "id": "65b6aa1e",
   "metadata": {},
   "source": [
    "### Suma de los elementos de una lista"
   ]
  },
  {
   "cell_type": "code",
   "execution_count": 7,
   "id": "72562a98",
   "metadata": {},
   "outputs": [
    {
     "name": "stdout",
     "output_type": "stream",
     "text": [
      "51.49819082364045\n"
     ]
    }
   ],
   "source": [
    "suma = 0\n",
    "for numero in lista:\n",
    "    suma = suma + numero\n",
    "print(suma)\n"
   ]
  },
  {
   "cell_type": "markdown",
   "id": "859e60e1",
   "metadata": {},
   "source": [
    "### Recuento de los elementos de una lista"
   ]
  },
  {
   "cell_type": "code",
   "execution_count": 12,
   "id": "8fcfaaee",
   "metadata": {},
   "outputs": [
    {
     "name": "stdout",
     "output_type": "stream",
     "text": [
      "51.49819082364045 110\n"
     ]
    }
   ],
   "source": [
    "recuento = 0\n",
    "for numero in lista:\n",
    "    recuento = recuento + 1\n",
    "print(suma, recuento)"
   ]
  },
  {
   "cell_type": "code",
   "execution_count": 13,
   "id": "ae768438",
   "metadata": {},
   "outputs": [],
   "source": [
    "def recuento(ls1):\n",
    "    \"\"\"Función que aceptada como entrada una lista de números y \n",
    "    realiza la suma de sus elementos\"\"\"\n",
    "    x = 0\n",
    "    for i in ls1:\n",
    "        x = x + 1\n",
    "    return x"
   ]
  },
  {
   "cell_type": "code",
   "execution_count": 14,
   "id": "6291c6af",
   "metadata": {},
   "outputs": [
    {
     "name": "stdout",
     "output_type": "stream",
     "text": [
      "Help on function recuento in module __main__:\n",
      "\n",
      "recuento(ls1)\n",
      "    Función que aceptada como entrada una lista de números y \n",
      "    realiza la suma de sus elementos\n",
      "\n"
     ]
    }
   ],
   "source": [
    "help(recuento)"
   ]
  },
  {
   "cell_type": "code",
   "execution_count": 15,
   "id": "17ec775b",
   "metadata": {},
   "outputs": [],
   "source": [
    "n = recuento(lista)"
   ]
  },
  {
   "cell_type": "markdown",
   "id": "05d92aff",
   "metadata": {},
   "source": [
    "### Programa una función que devuelva la varianza y desviación típica de los valores de una lista\n",
    "$$S^2=\\frac{1}{n}\\sum_{i=1}^n (x_i - \\bar{x})^2$$"
   ]
  },
  {
   "cell_type": "code",
   "execution_count": 16,
   "id": "2a7b2dd8",
   "metadata": {},
   "outputs": [],
   "source": [
    "def varianza(ls):\n",
    "    \"\"\"Función que calcula la varianza y desviación típica de los valores de \n",
    "    una lista de números.\"\"\"\n",
    "    suma = 0\n",
    "    recuento = 0\n",
    "    for x in ls:\n",
    "        suma = suma + x\n",
    "        recuento = recuento + 1\n",
    "    media = suma / recuento\n",
    "    \n",
    "    var = 0\n",
    "    for x in ls:\n",
    "        var = var + (x - media)**2\n",
    "    var = var / recuento\n",
    "    \n",
    "    sd = var**(1/2)\n",
    "    \n",
    "    return [var, sd]"
   ]
  },
  {
   "cell_type": "code",
   "execution_count": 17,
   "id": "a3a55898",
   "metadata": {},
   "outputs": [
    {
     "data": {
      "text/plain": [
       "[0.07734847071724686, 0.27811593035503535]"
      ]
     },
     "execution_count": 17,
     "metadata": {},
     "output_type": "execute_result"
    }
   ],
   "source": [
    "varianza(lista)"
   ]
  },
  {
   "cell_type": "markdown",
   "id": "960aaf95",
   "metadata": {},
   "source": [
    "### Factorial de un número\n",
    "\n",
    "$$n!=1\\cdot 2\\cdot...\\cdot (n-1)\\cdot n = n\\cdot (n-1)!$$"
   ]
  },
  {
   "cell_type": "code",
   "execution_count": 19,
   "id": "56db99cc",
   "metadata": {},
   "outputs": [],
   "source": [
    "def factorial1(n):\n",
    "    \"\"\"Función que calcula el factorial de un número.\"\"\"\n",
    "    producto = 1\n",
    "    for x in range(1,n+1):\n",
    "        producto = producto * x\n",
    "    return producto"
   ]
  },
  {
   "cell_type": "code",
   "execution_count": 20,
   "id": "051eb8a9",
   "metadata": {},
   "outputs": [
    {
     "name": "stdout",
     "output_type": "stream",
     "text": [
      "1.52 µs ± 35.7 ns per loop (mean ± std. dev. of 7 runs, 1,000,000 loops each)\n"
     ]
    }
   ],
   "source": [
    "%%timeit\n",
    "factorial1(10)"
   ]
  },
  {
   "cell_type": "code",
   "execution_count": 21,
   "id": "6cc35b43",
   "metadata": {},
   "outputs": [],
   "source": [
    "def factorial2(n):\n",
    "    \"\"\"...\"\"\"\n",
    "    if n in (0,1):\n",
    "        return 1\n",
    "    else:\n",
    "        return n * factorial2(n-1)"
   ]
  },
  {
   "cell_type": "code",
   "execution_count": 23,
   "id": "be225cdd",
   "metadata": {},
   "outputs": [
    {
     "data": {
      "text/plain": [
       "2"
      ]
     },
     "execution_count": 23,
     "metadata": {},
     "output_type": "execute_result"
    }
   ],
   "source": [
    "factorial2(2)"
   ]
  },
  {
   "cell_type": "markdown",
   "id": "ff9b7c42",
   "metadata": {},
   "source": [
    "### Programa una función que compruebe si un número es par"
   ]
  },
  {
   "cell_type": "code",
   "execution_count": 24,
   "id": "1e627b55",
   "metadata": {},
   "outputs": [],
   "source": [
    "def es_par(x):\n",
    "    \"\"\"...\"\"\"\n",
    "    return (x % 2) == 0"
   ]
  },
  {
   "cell_type": "code",
   "execution_count": 25,
   "id": "f976eed3",
   "metadata": {},
   "outputs": [],
   "source": [
    "def es_par(x):\n",
    "    \"\"\"...\"\"\"\n",
    "    if (x % 2) == 0:\n",
    "        return True\n",
    "    else:\n",
    "        return False"
   ]
  },
  {
   "cell_type": "code",
   "execution_count": 26,
   "id": "2b506dd5",
   "metadata": {},
   "outputs": [
    {
     "data": {
      "text/plain": [
       "True"
      ]
     },
     "execution_count": 26,
     "metadata": {},
     "output_type": "execute_result"
    }
   ],
   "source": [
    "es_par(14)"
   ]
  },
  {
   "cell_type": "markdown",
   "id": "38381873",
   "metadata": {},
   "source": [
    "# Serie de Fibonacci\n",
    "\n",
    "La secuencia de Fibonacci se define como $X_n = X_{n-1} + X_{n-2}$ con $X_0 = 0$ y $X_1 = 1$.\n",
    "\n",
    "Definamos una función que nos calcule el valor de la serie hasta un valor n.\n",
    "0, 1, 1, 2, 3, 5, 8, 13, 21,..."
   ]
  },
  {
   "cell_type": "code",
   "execution_count": 31,
   "id": "cd3a1ed7",
   "metadata": {},
   "outputs": [
    {
     "name": "stdout",
     "output_type": "stream",
     "text": [
      "[1, 1]\n",
      "[1, 1, 2]\n",
      "[1, 1, 2, 3]\n",
      "[1, 1, 2, 3, 5]\n",
      "[1, 1, 2, 3, 5, 8]\n"
     ]
    }
   ],
   "source": [
    "x = [1, 1];print(x)\n",
    "i = 1\n",
    "x = x + [x[0] + x[1]]\n",
    "print(x)\n",
    "x = x + [x[1] + x[2]]\n",
    "print(x)\n",
    "x = x + [x[2] + x[3]]\n",
    "print(x)\n",
    "x = x + [x[3] + x[4]]\n",
    "print(x)"
   ]
  },
  {
   "cell_type": "code",
   "execution_count": 32,
   "id": "2f56f8f3",
   "metadata": {},
   "outputs": [
    {
     "name": "stdout",
     "output_type": "stream",
     "text": [
      "[1, 1]\n",
      "[1, 1, 2]\n",
      "[1, 1, 2, 3]\n",
      "[1, 1, 2, 3, 5]\n",
      "[1, 1, 2, 3, 5, 8]\n",
      "[1, 1, 2, 3, 5, 8, 13]\n"
     ]
    }
   ],
   "source": [
    "x = [1, 1];print(x)\n",
    "i = 1\n",
    "x = x + [x[i-1] + x[i]]\n",
    "print(x)\n",
    "i += 1\n",
    "x = x + [x[i-1] + x[i]]\n",
    "print(x)\n",
    "i += 1\n",
    "x = x + [x[i-1] + x[i]]\n",
    "print(x)\n",
    "i += 1\n",
    "x = x + [x[i-1] + x[i]]\n",
    "print(x)\n",
    "i += 1\n",
    "x = x + [x[i-1] + x[i]]\n",
    "print(x)"
   ]
  },
  {
   "cell_type": "code",
   "execution_count": 71,
   "id": "5c0574d2",
   "metadata": {},
   "outputs": [
    {
     "name": "stdout",
     "output_type": "stream",
     "text": [
      "[1, 1, 2, 3]\n"
     ]
    }
   ],
   "source": [
    "x = [1, 1]\n",
    "n = 4\n",
    "for i in range(1, n - 1):\n",
    "    x = x + [x[i] + x[i-1]]º8\n",
    "    \n",
    "print(x)"
   ]
  },
  {
   "cell_type": "code",
   "execution_count": 69,
   "id": "bf71975c",
   "metadata": {},
   "outputs": [],
   "source": [
    "def serie_fibonacci(n_elem):\n",
    "    salida = []\n",
    "    for i in range(n_elem):\n",
    "        salida.append(fibonacci(i+1))\n",
    "    return salida"
   ]
  },
  {
   "cell_type": "code",
   "execution_count": 74,
   "id": "d271f709-3f94-416c-ad19-f6cb1ce9f74b",
   "metadata": {},
   "outputs": [],
   "source": [
    "n = serie_fibonacci(8)"
   ]
  },
  {
   "cell_type": "code",
   "execution_count": 75,
   "id": "732bc6ed-ee1c-4002-810e-31e2c293e238",
   "metadata": {},
   "outputs": [
    {
     "data": {
      "text/plain": [
       "[1, 1, 2, 3, 5, 8, 13, 21]"
      ]
     },
     "execution_count": 75,
     "metadata": {},
     "output_type": "execute_result"
    }
   ],
   "source": [
    "n"
   ]
  },
  {
   "cell_type": "code",
   "execution_count": 45,
   "id": "21f14d82",
   "metadata": {},
   "outputs": [],
   "source": [
    "def serie_fibonacci2(n_elem=0):\n",
    "    aux = [1, 1]\n",
    "    if n_elem < 1:\n",
    "        print(\"Se debe indicar como mínimo un elemento.\")\n",
    "    elif n_elem <= 2:\n",
    "        return aux[:n_elem]\n",
    "    else:\n",
    "        for i in range(2, n_elem):\n",
    "            aux.append(sum(aux[(i-2):i]))\n",
    "        return aux"
   ]
  },
  {
   "cell_type": "markdown",
   "id": "84af9562",
   "metadata": {},
   "source": [
    "No ha sido muy complicado, pero hay otra forma de realizar su definición:"
   ]
  },
  {
   "cell_type": "code",
   "execution_count": 76,
   "id": "9dc6dce7",
   "metadata": {},
   "outputs": [],
   "source": [
    "def fibonacci(n):\n",
    "    a, b = 0, 1\n",
    "    for i in range(n):\n",
    "        a, b = b, a + b\n",
    "    return a"
   ]
  },
  {
   "cell_type": "code",
   "execution_count": 77,
   "id": "2abecf08",
   "metadata": {},
   "outputs": [],
   "source": [
    "def fibonacci_rec(n):\n",
    "    if n == 0:\n",
    "        resultado = 0\n",
    "    elif n == 1:\n",
    "        resultado = 1\n",
    "    else:\n",
    "        resultado = fibonacci_rec(n - 1) + fibonacci_rec(n - 2)\n",
    "    return resultado"
   ]
  },
  {
   "cell_type": "markdown",
   "id": "70797d2b",
   "metadata": {},
   "source": [
    "Como podemos ver para definir la función estamos haciendo uso de ella misma, esto es la recursión.\n",
    "\n",
    "¿cuál de las dos crees que es más rápida?\n",
    "\n",
    "<div class=\"alert alert-success\"><b>Consejo:</b> \n",
    "    \n",
    "Explora los operadores mágicos `%%time` y `%%timeit`, recuerda que debes ponerlo al principio de la celda.\n",
    "</div>\n",
    "\n",
    "Prueba a definir una función que calcule el factorial de un número natural de forma recursiva y no recursiva."
   ]
  },
  {
   "cell_type": "code",
   "execution_count": 47,
   "id": "975b0242",
   "metadata": {},
   "outputs": [
    {
     "name": "stdout",
     "output_type": "stream",
     "text": [
      "1.4 µs ± 25.8 ns per loop (mean ± std. dev. of 7 runs, 1,000,000 loops each)\n"
     ]
    }
   ],
   "source": [
    "%%timeit\n",
    "fibonacci(10)"
   ]
  },
  {
   "cell_type": "code",
   "execution_count": 48,
   "id": "dd599d47",
   "metadata": {},
   "outputs": [
    {
     "name": "stdout",
     "output_type": "stream",
     "text": [
      "41.6 µs ± 1.32 µs per loop (mean ± std. dev. of 7 runs, 10,000 loops each)\n"
     ]
    }
   ],
   "source": [
    "%%timeit\n",
    "fibonacci_rec(10)"
   ]
  },
  {
   "cell_type": "markdown",
   "id": "d09066e6",
   "metadata": {},
   "source": [
    "### Programa una función que aproxime al número $\\pi$ hasta cierta precisión `eps` utilizando el bucle `while` y la siguiente expresión.\n",
    "\n",
    "$$\\pi = \\sum_{k=0}^{\\infty}\\frac{2(-1)^k3^{\\frac{1}{2}-k}}{2k+1}$$\n",
    "\n",
    "$$\\frac{\\pi}{4}=\\sum_{n=0}^{\\infty}\\frac{(-1)^n}{2n+1}$$"
   ]
  },
  {
   "cell_type": "code",
   "execution_count": 79,
   "id": "7232da84-9b9d-4992-838b-e0faa95ad618",
   "metadata": {},
   "outputs": [],
   "source": [
    "k = 0"
   ]
  },
  {
   "cell_type": "code",
   "execution_count": 80,
   "id": "239f42fc",
   "metadata": {},
   "outputs": [
    {
     "data": {
      "text/plain": [
       "3.4641016151377544"
      ]
     },
     "execution_count": 80,
     "metadata": {},
     "output_type": "execute_result"
    }
   ],
   "source": [
    "2 * ((-1) ** k) * (3 ** (1 / 2 - k)) / (2 * k + 1)"
   ]
  },
  {
   "cell_type": "code",
   "execution_count": 81,
   "id": "032581ec",
   "metadata": {},
   "outputs": [
    {
     "name": "stdout",
     "output_type": "stream",
     "text": [
      "3.14159051093808\n"
     ]
    }
   ],
   "source": [
    "pi = 0\n",
    "for k in range(10):\n",
    "    pi += 2 * ((-1) ** k) * (3 ** (1 / 2 - k)) / (2 * k + 1)\n",
    "\n",
    "print(pi)"
   ]
  },
  {
   "cell_type": "code",
   "execution_count": 82,
   "id": "bb6fac11",
   "metadata": {},
   "outputs": [],
   "source": [
    "def aproxima_pi(eps):\n",
    "    \"\"\"...\"\"\"\n",
    "    pi = 0\n",
    "    k = 0\n",
    "    while (k <= 1000):\n",
    "        pi += 2 * ((-1) ** k) * (3 ** (1 / 2 - k)) / (2 * k + 1)\n",
    "        print(pi)\n",
    "        k += 1\n",
    "        \n",
    "    return pi"
   ]
  },
  {
   "cell_type": "code",
   "execution_count": 83,
   "id": "ab685f52",
   "metadata": {},
   "outputs": [
    {
     "name": "stdout",
     "output_type": "stream",
     "text": [
      "3.4641016151377544\n",
      "3.0792014356780038\n",
      "3.156181471569954\n",
      "3.13785289159568\n",
      "3.1426047456630846\n",
      "3.141308785462883\n",
      "3.1416743126988376\n",
      "3.141568715941784\n",
      "3.141599773811506\n",
      "3.14159051093808\n",
      "3.1415933045030817\n",
      "3.1415924542876463\n",
      "3.14159271502038\n",
      "3.141592634547314\n",
      "3.141592659521714\n",
      "3.1415926517339976\n",
      "3.1415926541725754\n",
      "3.1415926534061653\n",
      "3.1415926536478262\n",
      "3.1415926535714034\n",
      "3.141592653595635\n",
      "3.1415926535879337\n",
      "3.141592653590387\n",
      "3.141592653589604\n",
      "3.1415926535898544\n",
      "3.141592653589774\n",
      "3.1415926535897998\n",
      "3.1415926535897913\n",
      "3.141592653589794\n",
      "3.141592653589793\n",
      "3.1415926535897936\n",
      "3.1415926535897936\n",
      "3.1415926535897936\n",
      "3.1415926535897936\n",
      "3.1415926535897936\n",
      "3.1415926535897936\n",
      "3.1415926535897936\n",
      "3.1415926535897936\n",
      "3.1415926535897936\n",
      "3.1415926535897936\n",
      "3.1415926535897936\n",
      "3.1415926535897936\n",
      "3.1415926535897936\n",
      "3.1415926535897936\n",
      "3.1415926535897936\n",
      "3.1415926535897936\n",
      "3.1415926535897936\n",
      "3.1415926535897936\n",
      "3.1415926535897936\n",
      "3.1415926535897936\n",
      "3.1415926535897936\n",
      "3.1415926535897936\n",
      "3.1415926535897936\n",
      "3.1415926535897936\n",
      "3.1415926535897936\n",
      "3.1415926535897936\n",
      "3.1415926535897936\n",
      "3.1415926535897936\n",
      "3.1415926535897936\n",
      "3.1415926535897936\n",
      "3.1415926535897936\n",
      "3.1415926535897936\n",
      "3.1415926535897936\n",
      "3.1415926535897936\n",
      "3.1415926535897936\n",
      "3.1415926535897936\n",
      "3.1415926535897936\n",
      "3.1415926535897936\n",
      "3.1415926535897936\n",
      "3.1415926535897936\n",
      "3.1415926535897936\n",
      "3.1415926535897936\n",
      "3.1415926535897936\n",
      "3.1415926535897936\n",
      "3.1415926535897936\n",
      "3.1415926535897936\n",
      "3.1415926535897936\n",
      "3.1415926535897936\n",
      "3.1415926535897936\n",
      "3.1415926535897936\n",
      "3.1415926535897936\n",
      "3.1415926535897936\n",
      "3.1415926535897936\n",
      "3.1415926535897936\n",
      "3.1415926535897936\n",
      "3.1415926535897936\n",
      "3.1415926535897936\n",
      "3.1415926535897936\n",
      "3.1415926535897936\n",
      "3.1415926535897936\n",
      "3.1415926535897936\n",
      "3.1415926535897936\n",
      "3.1415926535897936\n",
      "3.1415926535897936\n",
      "3.1415926535897936\n",
      "3.1415926535897936\n",
      "3.1415926535897936\n",
      "3.1415926535897936\n",
      "3.1415926535897936\n",
      "3.1415926535897936\n",
      "3.1415926535897936\n",
      "3.1415926535897936\n",
      "3.1415926535897936\n",
      "3.1415926535897936\n",
      "3.1415926535897936\n",
      "3.1415926535897936\n",
      "3.1415926535897936\n",
      "3.1415926535897936\n",
      "3.1415926535897936\n",
      "3.1415926535897936\n",
      "3.1415926535897936\n",
      "3.1415926535897936\n",
      "3.1415926535897936\n",
      "3.1415926535897936\n",
      "3.1415926535897936\n",
      "3.1415926535897936\n",
      "3.1415926535897936\n",
      "3.1415926535897936\n",
      "3.1415926535897936\n",
      "3.1415926535897936\n",
      "3.1415926535897936\n",
      "3.1415926535897936\n",
      "3.1415926535897936\n",
      "3.1415926535897936\n",
      "3.1415926535897936\n",
      "3.1415926535897936\n",
      "3.1415926535897936\n",
      "3.1415926535897936\n",
      "3.1415926535897936\n",
      "3.1415926535897936\n",
      "3.1415926535897936\n",
      "3.1415926535897936\n",
      "3.1415926535897936\n",
      "3.1415926535897936\n",
      "3.1415926535897936\n",
      "3.1415926535897936\n",
      "3.1415926535897936\n",
      "3.1415926535897936\n",
      "3.1415926535897936\n",
      "3.1415926535897936\n",
      "3.1415926535897936\n",
      "3.1415926535897936\n",
      "3.1415926535897936\n",
      "3.1415926535897936\n",
      "3.1415926535897936\n",
      "3.1415926535897936\n",
      "3.1415926535897936\n",
      "3.1415926535897936\n",
      "3.1415926535897936\n",
      "3.1415926535897936\n",
      "3.1415926535897936\n",
      "3.1415926535897936\n",
      "3.1415926535897936\n",
      "3.1415926535897936\n",
      "3.1415926535897936\n",
      "3.1415926535897936\n",
      "3.1415926535897936\n",
      "3.1415926535897936\n",
      "3.1415926535897936\n",
      "3.1415926535897936\n",
      "3.1415926535897936\n",
      "3.1415926535897936\n",
      "3.1415926535897936\n",
      "3.1415926535897936\n",
      "3.1415926535897936\n",
      "3.1415926535897936\n",
      "3.1415926535897936\n",
      "3.1415926535897936\n",
      "3.1415926535897936\n",
      "3.1415926535897936\n",
      "3.1415926535897936\n",
      "3.1415926535897936\n",
      "3.1415926535897936\n",
      "3.1415926535897936\n",
      "3.1415926535897936\n",
      "3.1415926535897936\n",
      "3.1415926535897936\n",
      "3.1415926535897936\n",
      "3.1415926535897936\n",
      "3.1415926535897936\n",
      "3.1415926535897936\n",
      "3.1415926535897936\n",
      "3.1415926535897936\n",
      "3.1415926535897936\n",
      "3.1415926535897936\n",
      "3.1415926535897936\n",
      "3.1415926535897936\n",
      "3.1415926535897936\n",
      "3.1415926535897936\n",
      "3.1415926535897936\n",
      "3.1415926535897936\n",
      "3.1415926535897936\n",
      "3.1415926535897936\n",
      "3.1415926535897936\n",
      "3.1415926535897936\n",
      "3.1415926535897936\n",
      "3.1415926535897936\n",
      "3.1415926535897936\n",
      "3.1415926535897936\n",
      "3.1415926535897936\n",
      "3.1415926535897936\n",
      "3.1415926535897936\n",
      "3.1415926535897936\n",
      "3.1415926535897936\n",
      "3.1415926535897936\n",
      "3.1415926535897936\n",
      "3.1415926535897936\n",
      "3.1415926535897936\n",
      "3.1415926535897936\n",
      "3.1415926535897936\n",
      "3.1415926535897936\n",
      "3.1415926535897936\n",
      "3.1415926535897936\n",
      "3.1415926535897936\n",
      "3.1415926535897936\n",
      "3.1415926535897936\n",
      "3.1415926535897936\n",
      "3.1415926535897936\n",
      "3.1415926535897936\n",
      "3.1415926535897936\n",
      "3.1415926535897936\n",
      "3.1415926535897936\n",
      "3.1415926535897936\n",
      "3.1415926535897936\n",
      "3.1415926535897936\n",
      "3.1415926535897936\n",
      "3.1415926535897936\n",
      "3.1415926535897936\n",
      "3.1415926535897936\n",
      "3.1415926535897936\n",
      "3.1415926535897936\n",
      "3.1415926535897936\n",
      "3.1415926535897936\n",
      "3.1415926535897936\n",
      "3.1415926535897936\n",
      "3.1415926535897936\n",
      "3.1415926535897936\n",
      "3.1415926535897936\n",
      "3.1415926535897936\n",
      "3.1415926535897936\n",
      "3.1415926535897936\n",
      "3.1415926535897936\n",
      "3.1415926535897936\n",
      "3.1415926535897936\n",
      "3.1415926535897936\n",
      "3.1415926535897936\n",
      "3.1415926535897936\n",
      "3.1415926535897936\n",
      "3.1415926535897936\n",
      "3.1415926535897936\n",
      "3.1415926535897936\n",
      "3.1415926535897936\n",
      "3.1415926535897936\n",
      "3.1415926535897936\n",
      "3.1415926535897936\n",
      "3.1415926535897936\n",
      "3.1415926535897936\n",
      "3.1415926535897936\n",
      "3.1415926535897936\n",
      "3.1415926535897936\n",
      "3.1415926535897936\n",
      "3.1415926535897936\n",
      "3.1415926535897936\n",
      "3.1415926535897936\n",
      "3.1415926535897936\n",
      "3.1415926535897936\n",
      "3.1415926535897936\n",
      "3.1415926535897936\n",
      "3.1415926535897936\n",
      "3.1415926535897936\n",
      "3.1415926535897936\n",
      "3.1415926535897936\n",
      "3.1415926535897936\n",
      "3.1415926535897936\n",
      "3.1415926535897936\n",
      "3.1415926535897936\n",
      "3.1415926535897936\n",
      "3.1415926535897936\n",
      "3.1415926535897936\n",
      "3.1415926535897936\n",
      "3.1415926535897936\n",
      "3.1415926535897936\n",
      "3.1415926535897936\n",
      "3.1415926535897936\n",
      "3.1415926535897936\n",
      "3.1415926535897936\n",
      "3.1415926535897936\n",
      "3.1415926535897936\n",
      "3.1415926535897936\n",
      "3.1415926535897936\n",
      "3.1415926535897936\n",
      "3.1415926535897936\n",
      "3.1415926535897936\n",
      "3.1415926535897936\n",
      "3.1415926535897936\n",
      "3.1415926535897936\n",
      "3.1415926535897936\n",
      "3.1415926535897936\n",
      "3.1415926535897936\n",
      "3.1415926535897936\n",
      "3.1415926535897936\n",
      "3.1415926535897936\n",
      "3.1415926535897936\n",
      "3.1415926535897936\n",
      "3.1415926535897936\n",
      "3.1415926535897936\n",
      "3.1415926535897936\n",
      "3.1415926535897936\n",
      "3.1415926535897936\n",
      "3.1415926535897936\n",
      "3.1415926535897936\n",
      "3.1415926535897936\n",
      "3.1415926535897936\n",
      "3.1415926535897936\n",
      "3.1415926535897936\n",
      "3.1415926535897936\n",
      "3.1415926535897936\n",
      "3.1415926535897936\n",
      "3.1415926535897936\n",
      "3.1415926535897936\n",
      "3.1415926535897936\n",
      "3.1415926535897936\n",
      "3.1415926535897936\n",
      "3.1415926535897936\n",
      "3.1415926535897936\n",
      "3.1415926535897936\n",
      "3.1415926535897936\n",
      "3.1415926535897936\n",
      "3.1415926535897936\n",
      "3.1415926535897936\n",
      "3.1415926535897936\n",
      "3.1415926535897936\n",
      "3.1415926535897936\n",
      "3.1415926535897936\n",
      "3.1415926535897936\n",
      "3.1415926535897936\n",
      "3.1415926535897936\n",
      "3.1415926535897936\n",
      "3.1415926535897936\n",
      "3.1415926535897936\n",
      "3.1415926535897936\n",
      "3.1415926535897936\n",
      "3.1415926535897936\n",
      "3.1415926535897936\n",
      "3.1415926535897936\n",
      "3.1415926535897936\n",
      "3.1415926535897936\n",
      "3.1415926535897936\n",
      "3.1415926535897936\n",
      "3.1415926535897936\n",
      "3.1415926535897936\n",
      "3.1415926535897936\n",
      "3.1415926535897936\n",
      "3.1415926535897936\n",
      "3.1415926535897936\n",
      "3.1415926535897936\n",
      "3.1415926535897936\n",
      "3.1415926535897936\n",
      "3.1415926535897936\n",
      "3.1415926535897936\n",
      "3.1415926535897936\n",
      "3.1415926535897936\n",
      "3.1415926535897936\n",
      "3.1415926535897936\n",
      "3.1415926535897936\n",
      "3.1415926535897936\n",
      "3.1415926535897936\n",
      "3.1415926535897936\n",
      "3.1415926535897936\n",
      "3.1415926535897936\n",
      "3.1415926535897936\n",
      "3.1415926535897936\n",
      "3.1415926535897936\n",
      "3.1415926535897936\n",
      "3.1415926535897936\n",
      "3.1415926535897936\n",
      "3.1415926535897936\n",
      "3.1415926535897936\n",
      "3.1415926535897936\n",
      "3.1415926535897936\n",
      "3.1415926535897936\n",
      "3.1415926535897936\n",
      "3.1415926535897936\n",
      "3.1415926535897936\n",
      "3.1415926535897936\n",
      "3.1415926535897936\n",
      "3.1415926535897936\n",
      "3.1415926535897936\n",
      "3.1415926535897936\n",
      "3.1415926535897936\n",
      "3.1415926535897936\n",
      "3.1415926535897936\n",
      "3.1415926535897936\n",
      "3.1415926535897936\n",
      "3.1415926535897936\n",
      "3.1415926535897936\n",
      "3.1415926535897936\n",
      "3.1415926535897936\n",
      "3.1415926535897936\n",
      "3.1415926535897936\n",
      "3.1415926535897936\n",
      "3.1415926535897936\n",
      "3.1415926535897936\n",
      "3.1415926535897936\n",
      "3.1415926535897936\n",
      "3.1415926535897936\n",
      "3.1415926535897936\n",
      "3.1415926535897936\n",
      "3.1415926535897936\n",
      "3.1415926535897936\n",
      "3.1415926535897936\n",
      "3.1415926535897936\n",
      "3.1415926535897936\n",
      "3.1415926535897936\n",
      "3.1415926535897936\n",
      "3.1415926535897936\n",
      "3.1415926535897936\n",
      "3.1415926535897936\n",
      "3.1415926535897936\n",
      "3.1415926535897936\n",
      "3.1415926535897936\n",
      "3.1415926535897936\n",
      "3.1415926535897936\n",
      "3.1415926535897936\n",
      "3.1415926535897936\n",
      "3.1415926535897936\n",
      "3.1415926535897936\n",
      "3.1415926535897936\n",
      "3.1415926535897936\n",
      "3.1415926535897936\n",
      "3.1415926535897936\n",
      "3.1415926535897936\n",
      "3.1415926535897936\n",
      "3.1415926535897936\n",
      "3.1415926535897936\n",
      "3.1415926535897936\n",
      "3.1415926535897936\n",
      "3.1415926535897936\n",
      "3.1415926535897936\n",
      "3.1415926535897936\n",
      "3.1415926535897936\n",
      "3.1415926535897936\n",
      "3.1415926535897936\n",
      "3.1415926535897936\n",
      "3.1415926535897936\n",
      "3.1415926535897936\n",
      "3.1415926535897936\n",
      "3.1415926535897936\n",
      "3.1415926535897936\n",
      "3.1415926535897936\n",
      "3.1415926535897936\n",
      "3.1415926535897936\n",
      "3.1415926535897936\n",
      "3.1415926535897936\n",
      "3.1415926535897936\n",
      "3.1415926535897936\n",
      "3.1415926535897936\n",
      "3.1415926535897936\n",
      "3.1415926535897936\n",
      "3.1415926535897936\n",
      "3.1415926535897936\n",
      "3.1415926535897936\n",
      "3.1415926535897936\n",
      "3.1415926535897936\n",
      "3.1415926535897936\n",
      "3.1415926535897936\n",
      "3.1415926535897936\n",
      "3.1415926535897936\n",
      "3.1415926535897936\n",
      "3.1415926535897936\n",
      "3.1415926535897936\n",
      "3.1415926535897936\n",
      "3.1415926535897936\n",
      "3.1415926535897936\n",
      "3.1415926535897936\n",
      "3.1415926535897936\n",
      "3.1415926535897936\n",
      "3.1415926535897936\n",
      "3.1415926535897936\n",
      "3.1415926535897936\n",
      "3.1415926535897936\n",
      "3.1415926535897936\n",
      "3.1415926535897936\n",
      "3.1415926535897936\n",
      "3.1415926535897936\n",
      "3.1415926535897936\n",
      "3.1415926535897936\n",
      "3.1415926535897936\n",
      "3.1415926535897936\n",
      "3.1415926535897936\n",
      "3.1415926535897936\n",
      "3.1415926535897936\n",
      "3.1415926535897936\n",
      "3.1415926535897936\n",
      "3.1415926535897936\n",
      "3.1415926535897936\n",
      "3.1415926535897936\n",
      "3.1415926535897936\n",
      "3.1415926535897936\n",
      "3.1415926535897936\n",
      "3.1415926535897936\n",
      "3.1415926535897936\n",
      "3.1415926535897936\n",
      "3.1415926535897936\n",
      "3.1415926535897936\n",
      "3.1415926535897936\n",
      "3.1415926535897936\n",
      "3.1415926535897936\n",
      "3.1415926535897936\n",
      "3.1415926535897936\n",
      "3.1415926535897936\n",
      "3.1415926535897936\n",
      "3.1415926535897936\n",
      "3.1415926535897936\n",
      "3.1415926535897936\n",
      "3.1415926535897936\n",
      "3.1415926535897936\n",
      "3.1415926535897936\n",
      "3.1415926535897936\n",
      "3.1415926535897936\n",
      "3.1415926535897936\n",
      "3.1415926535897936\n",
      "3.1415926535897936\n",
      "3.1415926535897936\n",
      "3.1415926535897936\n",
      "3.1415926535897936\n",
      "3.1415926535897936\n",
      "3.1415926535897936\n",
      "3.1415926535897936\n",
      "3.1415926535897936\n",
      "3.1415926535897936\n",
      "3.1415926535897936\n",
      "3.1415926535897936\n",
      "3.1415926535897936\n",
      "3.1415926535897936\n",
      "3.1415926535897936\n",
      "3.1415926535897936\n",
      "3.1415926535897936\n",
      "3.1415926535897936\n",
      "3.1415926535897936\n",
      "3.1415926535897936\n",
      "3.1415926535897936\n",
      "3.1415926535897936\n",
      "3.1415926535897936\n",
      "3.1415926535897936\n",
      "3.1415926535897936\n",
      "3.1415926535897936\n",
      "3.1415926535897936\n",
      "3.1415926535897936\n",
      "3.1415926535897936\n",
      "3.1415926535897936\n",
      "3.1415926535897936\n",
      "3.1415926535897936\n",
      "3.1415926535897936\n",
      "3.1415926535897936\n",
      "3.1415926535897936\n",
      "3.1415926535897936\n",
      "3.1415926535897936\n",
      "3.1415926535897936\n",
      "3.1415926535897936\n",
      "3.1415926535897936\n",
      "3.1415926535897936\n",
      "3.1415926535897936\n",
      "3.1415926535897936\n",
      "3.1415926535897936\n",
      "3.1415926535897936\n",
      "3.1415926535897936\n",
      "3.1415926535897936\n",
      "3.1415926535897936\n",
      "3.1415926535897936\n",
      "3.1415926535897936\n",
      "3.1415926535897936\n",
      "3.1415926535897936\n",
      "3.1415926535897936\n",
      "3.1415926535897936\n",
      "3.1415926535897936\n",
      "3.1415926535897936\n",
      "3.1415926535897936\n",
      "3.1415926535897936\n",
      "3.1415926535897936\n",
      "3.1415926535897936\n",
      "3.1415926535897936\n",
      "3.1415926535897936\n",
      "3.1415926535897936\n",
      "3.1415926535897936\n",
      "3.1415926535897936\n",
      "3.1415926535897936\n",
      "3.1415926535897936\n",
      "3.1415926535897936\n",
      "3.1415926535897936\n",
      "3.1415926535897936\n",
      "3.1415926535897936\n",
      "3.1415926535897936\n",
      "3.1415926535897936\n",
      "3.1415926535897936\n",
      "3.1415926535897936\n",
      "3.1415926535897936\n",
      "3.1415926535897936\n",
      "3.1415926535897936\n",
      "3.1415926535897936\n",
      "3.1415926535897936\n",
      "3.1415926535897936\n",
      "3.1415926535897936\n",
      "3.1415926535897936\n",
      "3.1415926535897936\n",
      "3.1415926535897936\n",
      "3.1415926535897936\n",
      "3.1415926535897936\n",
      "3.1415926535897936\n",
      "3.1415926535897936\n",
      "3.1415926535897936\n",
      "3.1415926535897936\n",
      "3.1415926535897936\n",
      "3.1415926535897936\n",
      "3.1415926535897936\n",
      "3.1415926535897936\n",
      "3.1415926535897936\n",
      "3.1415926535897936\n",
      "3.1415926535897936\n",
      "3.1415926535897936\n",
      "3.1415926535897936\n",
      "3.1415926535897936\n",
      "3.1415926535897936\n",
      "3.1415926535897936\n",
      "3.1415926535897936\n",
      "3.1415926535897936\n",
      "3.1415926535897936\n",
      "3.1415926535897936\n",
      "3.1415926535897936\n",
      "3.1415926535897936\n",
      "3.1415926535897936\n",
      "3.1415926535897936\n",
      "3.1415926535897936\n",
      "3.1415926535897936\n",
      "3.1415926535897936\n",
      "3.1415926535897936\n",
      "3.1415926535897936\n",
      "3.1415926535897936\n",
      "3.1415926535897936\n",
      "3.1415926535897936\n",
      "3.1415926535897936\n",
      "3.1415926535897936\n",
      "3.1415926535897936\n",
      "3.1415926535897936\n",
      "3.1415926535897936\n",
      "3.1415926535897936\n",
      "3.1415926535897936\n",
      "3.1415926535897936\n",
      "3.1415926535897936\n",
      "3.1415926535897936\n",
      "3.1415926535897936\n",
      "3.1415926535897936\n",
      "3.1415926535897936\n",
      "3.1415926535897936\n",
      "3.1415926535897936\n",
      "3.1415926535897936\n",
      "3.1415926535897936\n",
      "3.1415926535897936\n",
      "3.1415926535897936\n",
      "3.1415926535897936\n",
      "3.1415926535897936\n",
      "3.1415926535897936\n",
      "3.1415926535897936\n",
      "3.1415926535897936\n",
      "3.1415926535897936\n",
      "3.1415926535897936\n",
      "3.1415926535897936\n",
      "3.1415926535897936\n",
      "3.1415926535897936\n",
      "3.1415926535897936\n",
      "3.1415926535897936\n",
      "3.1415926535897936\n",
      "3.1415926535897936\n",
      "3.1415926535897936\n",
      "3.1415926535897936\n",
      "3.1415926535897936\n",
      "3.1415926535897936\n",
      "3.1415926535897936\n",
      "3.1415926535897936\n",
      "3.1415926535897936\n",
      "3.1415926535897936\n",
      "3.1415926535897936\n",
      "3.1415926535897936\n",
      "3.1415926535897936\n",
      "3.1415926535897936\n",
      "3.1415926535897936\n",
      "3.1415926535897936\n",
      "3.1415926535897936\n",
      "3.1415926535897936\n",
      "3.1415926535897936\n",
      "3.1415926535897936\n",
      "3.1415926535897936\n",
      "3.1415926535897936\n",
      "3.1415926535897936\n",
      "3.1415926535897936\n",
      "3.1415926535897936\n",
      "3.1415926535897936\n",
      "3.1415926535897936\n",
      "3.1415926535897936\n",
      "3.1415926535897936\n",
      "3.1415926535897936\n",
      "3.1415926535897936\n",
      "3.1415926535897936\n",
      "3.1415926535897936\n",
      "3.1415926535897936\n",
      "3.1415926535897936\n",
      "3.1415926535897936\n",
      "3.1415926535897936\n",
      "3.1415926535897936\n",
      "3.1415926535897936\n",
      "3.1415926535897936\n",
      "3.1415926535897936\n",
      "3.1415926535897936\n",
      "3.1415926535897936\n",
      "3.1415926535897936\n",
      "3.1415926535897936\n",
      "3.1415926535897936\n",
      "3.1415926535897936\n",
      "3.1415926535897936\n",
      "3.1415926535897936\n",
      "3.1415926535897936\n",
      "3.1415926535897936\n",
      "3.1415926535897936\n",
      "3.1415926535897936\n",
      "3.1415926535897936\n",
      "3.1415926535897936\n",
      "3.1415926535897936\n",
      "3.1415926535897936\n",
      "3.1415926535897936\n",
      "3.1415926535897936\n",
      "3.1415926535897936\n",
      "3.1415926535897936\n",
      "3.1415926535897936\n",
      "3.1415926535897936\n",
      "3.1415926535897936\n",
      "3.1415926535897936\n",
      "3.1415926535897936\n",
      "3.1415926535897936\n",
      "3.1415926535897936\n",
      "3.1415926535897936\n",
      "3.1415926535897936\n",
      "3.1415926535897936\n",
      "3.1415926535897936\n",
      "3.1415926535897936\n",
      "3.1415926535897936\n",
      "3.1415926535897936\n",
      "3.1415926535897936\n",
      "3.1415926535897936\n",
      "3.1415926535897936\n",
      "3.1415926535897936\n",
      "3.1415926535897936\n",
      "3.1415926535897936\n",
      "3.1415926535897936\n",
      "3.1415926535897936\n",
      "3.1415926535897936\n",
      "3.1415926535897936\n",
      "3.1415926535897936\n",
      "3.1415926535897936\n",
      "3.1415926535897936\n",
      "3.1415926535897936\n",
      "3.1415926535897936\n",
      "3.1415926535897936\n",
      "3.1415926535897936\n",
      "3.1415926535897936\n",
      "3.1415926535897936\n",
      "3.1415926535897936\n",
      "3.1415926535897936\n",
      "3.1415926535897936\n",
      "3.1415926535897936\n",
      "3.1415926535897936\n",
      "3.1415926535897936\n",
      "3.1415926535897936\n",
      "3.1415926535897936\n",
      "3.1415926535897936\n",
      "3.1415926535897936\n",
      "3.1415926535897936\n",
      "3.1415926535897936\n",
      "3.1415926535897936\n",
      "3.1415926535897936\n",
      "3.1415926535897936\n",
      "3.1415926535897936\n",
      "3.1415926535897936\n",
      "3.1415926535897936\n",
      "3.1415926535897936\n",
      "3.1415926535897936\n",
      "3.1415926535897936\n",
      "3.1415926535897936\n",
      "3.1415926535897936\n",
      "3.1415926535897936\n",
      "3.1415926535897936\n",
      "3.1415926535897936\n",
      "3.1415926535897936\n",
      "3.1415926535897936\n",
      "3.1415926535897936\n",
      "3.1415926535897936\n",
      "3.1415926535897936\n",
      "3.1415926535897936\n",
      "3.1415926535897936\n",
      "3.1415926535897936\n",
      "3.1415926535897936\n",
      "3.1415926535897936\n",
      "3.1415926535897936\n",
      "3.1415926535897936\n",
      "3.1415926535897936\n",
      "3.1415926535897936\n",
      "3.1415926535897936\n",
      "3.1415926535897936\n",
      "3.1415926535897936\n",
      "3.1415926535897936\n",
      "3.1415926535897936\n",
      "3.1415926535897936\n",
      "3.1415926535897936\n",
      "3.1415926535897936\n",
      "3.1415926535897936\n",
      "3.1415926535897936\n",
      "3.1415926535897936\n",
      "3.1415926535897936\n",
      "3.1415926535897936\n",
      "3.1415926535897936\n",
      "3.1415926535897936\n",
      "3.1415926535897936\n",
      "3.1415926535897936\n",
      "3.1415926535897936\n",
      "3.1415926535897936\n",
      "3.1415926535897936\n",
      "3.1415926535897936\n",
      "3.1415926535897936\n",
      "3.1415926535897936\n",
      "3.1415926535897936\n",
      "3.1415926535897936\n",
      "3.1415926535897936\n",
      "3.1415926535897936\n",
      "3.1415926535897936\n",
      "3.1415926535897936\n",
      "3.1415926535897936\n",
      "3.1415926535897936\n",
      "3.1415926535897936\n",
      "3.1415926535897936\n",
      "3.1415926535897936\n",
      "3.1415926535897936\n",
      "3.1415926535897936\n",
      "3.1415926535897936\n",
      "3.1415926535897936\n",
      "3.1415926535897936\n",
      "3.1415926535897936\n",
      "3.1415926535897936\n",
      "3.1415926535897936\n",
      "3.1415926535897936\n",
      "3.1415926535897936\n",
      "3.1415926535897936\n",
      "3.1415926535897936\n",
      "3.1415926535897936\n",
      "3.1415926535897936\n",
      "3.1415926535897936\n",
      "3.1415926535897936\n",
      "3.1415926535897936\n",
      "3.1415926535897936\n",
      "3.1415926535897936\n",
      "3.1415926535897936\n",
      "3.1415926535897936\n",
      "3.1415926535897936\n",
      "3.1415926535897936\n",
      "3.1415926535897936\n",
      "3.1415926535897936\n",
      "3.1415926535897936\n",
      "3.1415926535897936\n",
      "3.1415926535897936\n",
      "3.1415926535897936\n",
      "3.1415926535897936\n",
      "3.1415926535897936\n",
      "3.1415926535897936\n",
      "3.1415926535897936\n",
      "3.1415926535897936\n",
      "3.1415926535897936\n",
      "3.1415926535897936\n",
      "3.1415926535897936\n",
      "3.1415926535897936\n",
      "3.1415926535897936\n",
      "3.1415926535897936\n",
      "3.1415926535897936\n",
      "3.1415926535897936\n",
      "3.1415926535897936\n",
      "3.1415926535897936\n",
      "3.1415926535897936\n",
      "3.1415926535897936\n",
      "3.1415926535897936\n",
      "3.1415926535897936\n",
      "3.1415926535897936\n",
      "3.1415926535897936\n",
      "3.1415926535897936\n",
      "3.1415926535897936\n",
      "3.1415926535897936\n",
      "3.1415926535897936\n",
      "3.1415926535897936\n",
      "3.1415926535897936\n",
      "3.1415926535897936\n",
      "3.1415926535897936\n",
      "3.1415926535897936\n",
      "3.1415926535897936\n",
      "3.1415926535897936\n",
      "3.1415926535897936\n",
      "3.1415926535897936\n",
      "3.1415926535897936\n",
      "3.1415926535897936\n",
      "3.1415926535897936\n",
      "3.1415926535897936\n",
      "3.1415926535897936\n",
      "3.1415926535897936\n",
      "3.1415926535897936\n",
      "3.1415926535897936\n",
      "3.1415926535897936\n",
      "3.1415926535897936\n",
      "3.1415926535897936\n",
      "3.1415926535897936\n",
      "3.1415926535897936\n",
      "3.1415926535897936\n",
      "3.1415926535897936\n",
      "3.1415926535897936\n",
      "3.1415926535897936\n",
      "3.1415926535897936\n",
      "3.1415926535897936\n",
      "3.1415926535897936\n",
      "3.1415926535897936\n",
      "3.1415926535897936\n",
      "3.1415926535897936\n",
      "3.1415926535897936\n",
      "3.1415926535897936\n",
      "3.1415926535897936\n",
      "3.1415926535897936\n",
      "3.1415926535897936\n",
      "3.1415926535897936\n",
      "3.1415926535897936\n",
      "3.1415926535897936\n",
      "3.1415926535897936\n",
      "3.1415926535897936\n",
      "3.1415926535897936\n",
      "3.1415926535897936\n",
      "3.1415926535897936\n",
      "3.1415926535897936\n",
      "3.1415926535897936\n",
      "3.1415926535897936\n",
      "3.1415926535897936\n",
      "3.1415926535897936\n",
      "3.1415926535897936\n",
      "3.1415926535897936\n",
      "3.1415926535897936\n",
      "3.1415926535897936\n",
      "3.1415926535897936\n",
      "3.1415926535897936\n",
      "3.1415926535897936\n",
      "3.1415926535897936\n",
      "3.1415926535897936\n",
      "3.1415926535897936\n",
      "3.1415926535897936\n",
      "3.1415926535897936\n",
      "3.1415926535897936\n",
      "3.1415926535897936\n",
      "3.1415926535897936\n",
      "3.1415926535897936\n",
      "3.1415926535897936\n",
      "3.1415926535897936\n",
      "3.1415926535897936\n",
      "3.1415926535897936\n",
      "3.1415926535897936\n",
      "3.1415926535897936\n",
      "3.1415926535897936\n",
      "3.1415926535897936\n",
      "3.1415926535897936\n",
      "3.1415926535897936\n",
      "3.1415926535897936\n",
      "3.1415926535897936\n",
      "3.1415926535897936\n",
      "3.1415926535897936\n",
      "3.1415926535897936\n",
      "3.1415926535897936\n",
      "3.1415926535897936\n",
      "3.1415926535897936\n",
      "3.1415926535897936\n",
      "3.1415926535897936\n",
      "3.1415926535897936\n",
      "3.1415926535897936\n",
      "3.1415926535897936\n",
      "3.1415926535897936\n",
      "3.1415926535897936\n",
      "3.1415926535897936\n",
      "3.1415926535897936\n",
      "3.1415926535897936\n",
      "3.1415926535897936\n",
      "3.1415926535897936\n",
      "3.1415926535897936\n",
      "3.1415926535897936\n",
      "3.1415926535897936\n",
      "3.1415926535897936\n",
      "3.1415926535897936\n",
      "3.1415926535897936\n",
      "3.1415926535897936\n",
      "3.1415926535897936\n",
      "3.1415926535897936\n",
      "3.1415926535897936\n",
      "3.1415926535897936\n",
      "3.1415926535897936\n"
     ]
    },
    {
     "data": {
      "text/plain": [
       "3.1415926535897936"
      ]
     },
     "execution_count": 83,
     "metadata": {},
     "output_type": "execute_result"
    }
   ],
   "source": [
    "aproxima_pi(1)"
   ]
  },
  {
   "cell_type": "code",
   "execution_count": null,
   "id": "27b49d69",
   "metadata": {},
   "outputs": [],
   "source": []
  },
  {
   "cell_type": "markdown",
   "id": "420ad51e",
   "metadata": {},
   "source": [
    "## Programa una función que dado un número lo multiplique por 2."
   ]
  },
  {
   "cell_type": "code",
   "execution_count": 84,
   "id": "1c23d6cb",
   "metadata": {},
   "outputs": [],
   "source": [
    "def por_dos(x):\n",
    "    \"\"\"....\"\"\"\n",
    "    return 2*x"
   ]
  },
  {
   "cell_type": "code",
   "execution_count": 85,
   "id": "81bb751e",
   "metadata": {},
   "outputs": [
    {
     "data": {
      "text/plain": [
       "7.4"
      ]
     },
     "execution_count": 85,
     "metadata": {},
     "output_type": "execute_result"
    }
   ],
   "source": [
    "por_dos(3.7)"
   ]
  },
  {
   "cell_type": "markdown",
   "id": "72a71bb5",
   "metadata": {},
   "source": [
    "## Programa una función que dados dos números proporcione su suma y su producto."
   ]
  },
  {
   "cell_type": "code",
   "execution_count": 93,
   "id": "a36c0f3e",
   "metadata": {},
   "outputs": [],
   "source": [
    "def operacion2(num1, num2):\n",
    "    suma = num1 + num2\n",
    "    producto = num1 * num2\n",
    "    return [suma, producto]"
   ]
  },
  {
   "cell_type": "code",
   "execution_count": 94,
   "id": "07a4aea1-3090-4d64-aba1-58ba38577b03",
   "metadata": {},
   "outputs": [
    {
     "data": {
      "text/plain": [
       "[10, 24]"
      ]
     },
     "execution_count": 94,
     "metadata": {},
     "output_type": "execute_result"
    }
   ],
   "source": [
    "operacion2(4, 6)"
   ]
  },
  {
   "cell_type": "markdown",
   "id": "d16e4732",
   "metadata": {},
   "source": [
    "## Programa una función que calcule el área y perímetro de un rectángulo dado los dos lados"
   ]
  },
  {
   "cell_type": "code",
   "execution_count": 95,
   "id": "f121283f",
   "metadata": {},
   "outputs": [],
   "source": [
    "def operacion(lado1, lado2):\n",
    "    area = lado1 * lado2\n",
    "    perimetro = 2 * (lado1 + lado2)\n",
    "    return [area, perimetro]"
   ]
  },
  {
   "cell_type": "code",
   "execution_count": 96,
   "id": "47bebcf8-9d88-48dc-92b4-9037c817f2bb",
   "metadata": {},
   "outputs": [
    {
     "data": {
      "text/plain": [
       "[18, 18]"
      ]
     },
     "execution_count": 96,
     "metadata": {},
     "output_type": "execute_result"
    }
   ],
   "source": [
    "operacion(6, 3)"
   ]
  },
  {
   "cell_type": "markdown",
   "id": "dedb1eed",
   "metadata": {},
   "source": [
    "## Programa una función que calcula el área y perímetro de una circunferenica dado el radio. Como salida debe proporcionar un diccionario."
   ]
  },
  {
   "cell_type": "code",
   "execution_count": 97,
   "id": "70262d06",
   "metadata": {},
   "outputs": [
    {
     "data": {
      "text/plain": [
       "3.141592653589793"
      ]
     },
     "execution_count": 97,
     "metadata": {},
     "output_type": "execute_result"
    }
   ],
   "source": [
    "import math\n",
    "\n",
    "math.pi"
   ]
  },
  {
   "cell_type": "code",
   "execution_count": 98,
   "id": "0d87bbfa",
   "metadata": {},
   "outputs": [],
   "source": [
    "def g(radio):\n",
    "    area = math.pi * radio ** 2\n",
    "    perimetro = math.pi * radio * 2\n",
    "    return {'area':area, 'perimetro':perimetro}"
   ]
  },
  {
   "cell_type": "code",
   "execution_count": 99,
   "id": "d9d01b98",
   "metadata": {},
   "outputs": [],
   "source": [
    "x = g(1)"
   ]
  },
  {
   "cell_type": "code",
   "execution_count": 100,
   "id": "6dbe22ad",
   "metadata": {},
   "outputs": [
    {
     "data": {
      "text/plain": [
       "6.283185307179586"
      ]
     },
     "execution_count": 100,
     "metadata": {},
     "output_type": "execute_result"
    }
   ],
   "source": [
    "x['perimetro']"
   ]
  },
  {
   "cell_type": "markdown",
   "id": "336f25e1",
   "metadata": {},
   "source": [
    "## Programa una función que dado un número proporcione su tabla de multiplicar."
   ]
  },
  {
   "cell_type": "code",
   "execution_count": 111,
   "id": "2678e6f8",
   "metadata": {},
   "outputs": [],
   "source": [
    "def tabla_multiplicar(num):\n",
    "    for i in range (1, 11):\n",
    "        resultado = i*num\n",
    "        print (i, resultado)"
   ]
  },
  {
   "cell_type": "code",
   "execution_count": 112,
   "id": "f135b8fe-36ba-4018-bed8-a8dbcce8e089",
   "metadata": {},
   "outputs": [
    {
     "name": "stdout",
     "output_type": "stream",
     "text": [
      "1 3\n",
      "2 6\n",
      "3 9\n",
      "4 12\n",
      "5 15\n",
      "6 18\n",
      "7 21\n",
      "8 24\n",
      "9 27\n",
      "10 30\n"
     ]
    }
   ],
   "source": [
    "tabla_multiplicar(3)"
   ]
  },
  {
   "cell_type": "markdown",
   "id": "fc283a70",
   "metadata": {},
   "source": [
    "## Programa una función que transforme grados Celsius a grados Fahrenheit $$F=\\frac{9}{5}C+32$$"
   ]
  },
  {
   "cell_type": "code",
   "execution_count": 113,
   "id": "92c166b4",
   "metadata": {},
   "outputs": [],
   "source": [
    "def grados(C):\n",
    "    \"\"\"...\"\"\"\n",
    "    return (9/5) * C + 32"
   ]
  },
  {
   "cell_type": "code",
   "execution_count": 114,
   "id": "c3c952cc",
   "metadata": {},
   "outputs": [
    {
     "data": {
      "text/plain": [
       "82.4"
      ]
     },
     "execution_count": 114,
     "metadata": {},
     "output_type": "execute_result"
    }
   ],
   "source": [
    "grados(28)"
   ]
  },
  {
   "cell_type": "markdown",
   "id": "d969f908",
   "metadata": {},
   "source": [
    "## Utilizando la función anterior crea un programa que proporcione una tabla de conversión de 0ºC a 100ºC de 10 en 10."
   ]
  },
  {
   "cell_type": "code",
   "execution_count": 115,
   "id": "8c044d84",
   "metadata": {},
   "outputs": [
    {
     "name": "stdout",
     "output_type": "stream",
     "text": [
      "32.0\n",
      "50.0\n",
      "68.0\n",
      "86.0\n",
      "104.0\n",
      "122.0\n",
      "140.0\n",
      "158.0\n",
      "176.0\n",
      "194.0\n",
      "212.0\n"
     ]
    }
   ],
   "source": [
    "for objeto in range(0, 101, 10):\n",
    "    print(grados(objeto))"
   ]
  },
  {
   "cell_type": "markdown",
   "id": "d7aed536",
   "metadata": {},
   "source": [
    "## Escribe un programa que reciba un número $n$ por parámetro e imprima los primeros $n$ números triangulares, junto con su índice. Los números triangulares se obtienen mediante la suma de los números naturales desde 1 hasta $n$.\n",
    "\n",
    "## Hazlo usando y sin usar la fórmula $\\sum_{i=1}^n i=n(n+1)/2$.\n",
    "¿hay diferencia en el tiempo de ejecución?"
   ]
  },
  {
   "cell_type": "code",
   "execution_count": 26,
   "id": "36fc7ab2",
   "metadata": {},
   "outputs": [],
   "source": [
    "def num_triangulares(n):\n",
    "    for i in range(1, n+1):\n",
    "        triangular = i * (i+1) // 2\n",
    "        print(triangular)"
   ]
  },
  {
   "cell_type": "code",
   "execution_count": 28,
   "id": "0a024296-4f5b-4c38-ab6e-3bc42dbde3a4",
   "metadata": {},
   "outputs": [
    {
     "name": "stdout",
     "output_type": "stream",
     "text": [
      "1\n",
      "3\n",
      "6\n",
      "10\n",
      "15\n",
      "21\n",
      "28\n",
      "36\n",
      "45\n"
     ]
    }
   ],
   "source": [
    "num_triangulares(9)"
   ]
  },
  {
   "cell_type": "markdown",
   "id": "d21866f1",
   "metadata": {},
   "source": [
    "## Escribe un programa que imprima todas las fichas de dominó (una por línea) sin repetir."
   ]
  },
  {
   "cell_type": "code",
   "execution_count": 23,
   "id": "ece4a4aa",
   "metadata": {},
   "outputs": [],
   "source": [
    "def generar_fichas():\n",
    "    for i in range(1, 7):\n",
    "        for j in range(1, 7):\n",
    "            print (i, j)"
   ]
  },
  {
   "cell_type": "code",
   "execution_count": 24,
   "id": "d3197779-312b-4be8-b627-7f5d5198877d",
   "metadata": {},
   "outputs": [
    {
     "name": "stdout",
     "output_type": "stream",
     "text": [
      "1 1\n",
      "1 2\n",
      "1 3\n",
      "1 4\n",
      "1 5\n",
      "1 6\n",
      "2 1\n",
      "2 2\n",
      "2 3\n",
      "2 4\n",
      "2 5\n",
      "2 6\n",
      "3 1\n",
      "3 2\n",
      "3 3\n",
      "3 4\n",
      "3 5\n",
      "3 6\n",
      "4 1\n",
      "4 2\n",
      "4 3\n",
      "4 4\n",
      "4 5\n",
      "4 6\n",
      "5 1\n",
      "5 2\n",
      "5 3\n",
      "5 4\n",
      "5 5\n",
      "5 6\n",
      "6 1\n",
      "6 2\n",
      "6 3\n",
      "6 4\n",
      "6 5\n",
      "6 6\n"
     ]
    }
   ],
   "source": [
    "generar_fichas()"
   ]
  },
  {
   "cell_type": "markdown",
   "id": "e4d95645",
   "metadata": {},
   "source": [
    "## Escribe una función que dado un número indique si es par o no y si es primo o no."
   ]
  },
  {
   "cell_type": "code",
   "execution_count": 35,
   "id": "e24b1060",
   "metadata": {},
   "outputs": [],
   "source": [
    "def par(num):\n",
    "    if(num % 2 == 0):\n",
    "        print('par')\n",
    "    else:\n",
    "        print('impar')\n",
    "    if num == 0 or num == 1:\n",
    "        return 'no es primo'\n",
    "    for x in range(2, int(num/2)):\n",
    "        if num % x == 0:\n",
    "            return 'no es primo'\n",
    "    return 'es primo'"
   ]
  },
  {
   "cell_type": "code",
   "execution_count": 36,
   "id": "a7d2dd56-f20f-4ba3-81c3-eae3cbfa8535",
   "metadata": {},
   "outputs": [
    {
     "name": "stdout",
     "output_type": "stream",
     "text": [
      "par\n"
     ]
    },
    {
     "data": {
      "text/plain": [
       "'es primo'"
      ]
     },
     "execution_count": 36,
     "metadata": {},
     "output_type": "execute_result"
    }
   ],
   "source": [
    "par (4)"
   ]
  },
  {
   "cell_type": "markdown",
   "id": "ef4c6b71",
   "metadata": {},
   "source": [
    "## Programa una implementación de la función $abs$."
   ]
  },
  {
   "cell_type": "code",
   "execution_count": 37,
   "id": "202ee7ba",
   "metadata": {},
   "outputs": [],
   "source": [
    "def absoluto(n):\n",
    "    if n > 0:\n",
    "        return n\n",
    "    else:\n",
    "        return -1*n"
   ]
  },
  {
   "cell_type": "code",
   "execution_count": 42,
   "id": "79613f36-7720-4385-9103-1e82e36ed51d",
   "metadata": {},
   "outputs": [
    {
     "data": {
      "text/plain": [
       "7"
      ]
     },
     "execution_count": 42,
     "metadata": {},
     "output_type": "execute_result"
    }
   ],
   "source": [
    "absoluto(-7)"
   ]
  },
  {
   "cell_type": "markdown",
   "id": "5c75fa01",
   "metadata": {},
   "source": [
    "## Programa una implementción de la función $signo$."
   ]
  },
  {
   "cell_type": "code",
   "execution_count": 44,
   "id": "0751e9f8",
   "metadata": {},
   "outputs": [],
   "source": [
    "def signo (num):\n",
    "    if num < 0:\n",
    "        return 'negativo'\n",
    "    else:\n",
    "        return 'positivo'"
   ]
  },
  {
   "cell_type": "code",
   "execution_count": 47,
   "id": "d45d1bc2-2299-4497-9cd0-89af205265b2",
   "metadata": {},
   "outputs": [
    {
     "data": {
      "text/plain": [
       "'positivo'"
      ]
     },
     "execution_count": 47,
     "metadata": {},
     "output_type": "execute_result"
    }
   ],
   "source": [
    "signo (5)"
   ]
  },
  {
   "cell_type": "markdown",
   "id": "c15e53ef",
   "metadata": {},
   "source": [
    "## Escribe funciónes que permitan encontrar las soluciones de un polinomio de grado dos dados sus coeficientes $a$, $b$ y $c$.\n",
    "\n",
    "## Que muestre el mínimo o máximo del polinomio."
   ]
  },
  {
   "cell_type": "code",
   "execution_count": 48,
   "id": "17be99a8",
   "metadata": {},
   "outputs": [],
   "source": [
    "def segundo_grado(A,B,C):\n",
    "    if ((B**2)-4*A*C) < 0:\n",
    "      print(\"La solución de la ecuación es con numeros complejos\")\n",
    "    else:\n",
    "      x1 = (-B+sqrt(B**2-(4*A*C)))/(2*A) \n",
    "      x2 = (-B-sqrt(B**2-(4*A*C)))/(2*A) \n",
    "      print(\"Las soluciones de la ecuación son:\")\n",
    "      print(x1)\n",
    "      print(x2)"
   ]
  },
  {
   "cell_type": "code",
   "execution_count": 49,
   "id": "c0c18c11-9a6a-46bc-a1f0-348384d59122",
   "metadata": {},
   "outputs": [
    {
     "name": "stdout",
     "output_type": "stream",
     "text": [
      "La solución de la ecuación es con numeros complejos\n"
     ]
    }
   ],
   "source": [
    "segundo_grado(-9, 6, -3)"
   ]
  },
  {
   "cell_type": "markdown",
   "id": "45bd8725",
   "metadata": {},
   "source": [
    "## Escribe una función que dado un número entero devuelva su descomposición en factores primos."
   ]
  },
  {
   "cell_type": "code",
   "execution_count": 53,
   "id": "77853595",
   "metadata": {},
   "outputs": [],
   "source": [
    "def factores_primos(num):\n",
    "    for i in range(2, int(num/2)):\n",
    "        if num % i == 0:\n",
    "            print(i)"
   ]
  },
  {
   "cell_type": "code",
   "execution_count": 54,
   "id": "ff0771fe-252a-4ecf-8b18-ecfbbfd2f1f7",
   "metadata": {},
   "outputs": [
    {
     "name": "stdout",
     "output_type": "stream",
     "text": [
      "3\n",
      "7\n",
      "9\n",
      "21\n"
     ]
    }
   ],
   "source": [
    "factores_primos(63)"
   ]
  },
  {
   "cell_type": "markdown",
   "id": "760932c8",
   "metadata": {},
   "source": [
    "## Programa una función que solicite por pantalla un número y permita al usuario introducirlo para luego imprimirlo por pantalla.\n",
    "\n",
    "## Usa la función `input` de python."
   ]
  },
  {
   "cell_type": "code",
   "execution_count": 55,
   "id": "00d2def5",
   "metadata": {},
   "outputs": [
    {
     "name": "stdin",
     "output_type": "stream",
     "text": [
      " 8\n"
     ]
    }
   ],
   "source": [
    "x = input()"
   ]
  },
  {
   "cell_type": "code",
   "execution_count": 56,
   "id": "16c88ab9",
   "metadata": {},
   "outputs": [
    {
     "name": "stdout",
     "output_type": "stream",
     "text": [
      "Introduzca un valor:\n"
     ]
    },
    {
     "name": "stdin",
     "output_type": "stream",
     "text": [
      " 4\n"
     ]
    },
    {
     "name": "stdout",
     "output_type": "stream",
     "text": [
      "El numero introducido es 4\n"
     ]
    }
   ],
   "source": [
    "print('Introduzca un valor:')\n",
    "x = int(input())\n",
    "print(\"El numero introducido es\",x)"
   ]
  },
  {
   "cell_type": "code",
   "execution_count": 57,
   "id": "1d131227",
   "metadata": {},
   "outputs": [
    {
     "data": {
      "text/plain": [
       "5"
      ]
     },
     "execution_count": 57,
     "metadata": {},
     "output_type": "execute_result"
    }
   ],
   "source": [
    "1+x"
   ]
  },
  {
   "cell_type": "markdown",
   "id": "bca767ff",
   "metadata": {},
   "source": [
    "## Escribe una función que tenga una contraseña inventada, que le pregunte la contraseña inventada y no le permita continuar al usuario hasta que la haya ingresado correctamente."
   ]
  },
  {
   "cell_type": "code",
   "execution_count": 86,
   "id": "9a056a92-5ad1-4c24-8b7a-3ab528ab77bd",
   "metadata": {},
   "outputs": [],
   "source": [
    "def contrasena(num):\n",
    "    contrasena_correcta = \"123\"\n",
    "    if contrasena == contrasena_correcta:\n",
    "        print(\"contraseña correcta\")\n",
    "        \n",
    "    else:\n",
    "        print(\"contraseña incorrecta\")"
   ]
  },
  {
   "cell_type": "code",
   "execution_count": 88,
   "id": "90c10c11-d634-40fd-a3e0-b81ad41b92d7",
   "metadata": {},
   "outputs": [
    {
     "name": "stdout",
     "output_type": "stream",
     "text": [
      "contraseña incorrecta\n"
     ]
    }
   ],
   "source": [
    "contrasena(12)"
   ]
  },
  {
   "cell_type": "markdown",
   "id": "26ac9952",
   "metadata": {},
   "source": [
    "## Modificación la función anterior para que solo permita un número determinado de intentos y le indique al usuario cuántos intentos le quedan."
   ]
  },
  {
   "cell_type": "code",
   "execution_count": null,
   "id": "e93e9b07",
   "metadata": {},
   "outputs": [],
   "source": []
  },
  {
   "cell_type": "markdown",
   "id": "c36d6550",
   "metadata": {},
   "source": [
    "## Programa una función que genere un número aleatorio entero en un rango determinado. Y que le permita al usuario introducir números indicando si son mayores o menores hasta que acierte el número."
   ]
  },
  {
   "cell_type": "code",
   "execution_count": 58,
   "id": "105044e0",
   "metadata": {},
   "outputs": [],
   "source": [
    "from random import randint"
   ]
  },
  {
   "cell_type": "code",
   "execution_count": 59,
   "id": "aae534c1",
   "metadata": {},
   "outputs": [
    {
     "data": {
      "text/plain": [
       "10"
      ]
     },
     "execution_count": 59,
     "metadata": {},
     "output_type": "execute_result"
    }
   ],
   "source": [
    "randint(0, 10)"
   ]
  },
  {
   "cell_type": "code",
   "execution_count": 60,
   "id": "8ff11ade",
   "metadata": {},
   "outputs": [],
   "source": [
    "def acierto(n_min=0, n_max=10):\n",
    "    x = randint(n_min, n_max)\n",
    "    fallo = True\n",
    "    while fallo == True:\n",
    "        print('Introduce un numero:')\n",
    "        numero = int(input())\n",
    "        if numero == x:\n",
    "            print('Has acertado')\n",
    "            fallo = False\n",
    "        elif numero < x:\n",
    "            print('Es mayor que ', numero)\n",
    "        else:\n",
    "            print('Es menor que ', numero)"
   ]
  },
  {
   "cell_type": "code",
   "execution_count": 61,
   "id": "c55fbb77",
   "metadata": {},
   "outputs": [
    {
     "name": "stdout",
     "output_type": "stream",
     "text": [
      "Introduce un numero:\n"
     ]
    },
    {
     "name": "stdin",
     "output_type": "stream",
     "text": [
      " 9\n"
     ]
    },
    {
     "name": "stdout",
     "output_type": "stream",
     "text": [
      "Es menor que  9\n",
      "Introduce un numero:\n"
     ]
    },
    {
     "name": "stdin",
     "output_type": "stream",
     "text": [
      " 6\n"
     ]
    },
    {
     "name": "stdout",
     "output_type": "stream",
     "text": [
      "Has acertado\n"
     ]
    }
   ],
   "source": [
    "acierto()"
   ]
  },
  {
   "cell_type": "markdown",
   "id": "d00c2bda",
   "metadata": {},
   "source": [
    "## Programa una función que implemente el algoritmo de Euclides para calcular el máximo común divisor de dos números $n$ y $m$. Dado por los siguientes pasos:\n",
    "1. Se calcula el resto ($r$) de $m/n$.\n",
    "2. Si $r$ es cero entonces $n$ es el MCD de los valores iniciales.\n",
    "3. Si no, se asigna $m \\leftarrow n$, $n \\leftarrow r$ y se vuelve al primer paso.\n"
   ]
  },
  {
   "cell_type": "code",
   "execution_count": null,
   "id": "44658142",
   "metadata": {},
   "outputs": [],
   "source": [
    "def algoritmo_mcd(a, b):\n",
    "  control=True\n",
    "  n=0\n",
    "  while (control == True):\n",
    "    if (a == b):\n",
    "      control=False\n",
    "    n= abs(a-b)\n",
    "    if (n > b):\n",
    "      a=n\n",
    "    else:\n",
    "     b=n\n",
    "  return a "
   ]
  },
  {
   "cell_type": "code",
   "execution_count": null,
   "id": "572508ff-52e9-4135-aba4-3a27e7f80bf9",
   "metadata": {},
   "outputs": [],
   "source": []
  }
 ],
 "metadata": {
  "kernelspec": {
   "display_name": "Python 3 (ipykernel)",
   "language": "python",
   "name": "python3"
  },
  "language_info": {
   "codemirror_mode": {
    "name": "ipython",
    "version": 3
   },
   "file_extension": ".py",
   "mimetype": "text/x-python",
   "name": "python",
   "nbconvert_exporter": "python",
   "pygments_lexer": "ipython3",
   "version": "3.11.5"
  }
 },
 "nbformat": 4,
 "nbformat_minor": 5
}
